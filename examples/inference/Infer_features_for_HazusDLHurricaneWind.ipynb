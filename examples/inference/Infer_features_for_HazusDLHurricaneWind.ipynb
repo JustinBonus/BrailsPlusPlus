{
 "cells": [
  {
   "cell_type": "code",
   "execution_count": 1,
   "id": "bbb4d53e-334c-4533-a108-508067038215",
   "metadata": {},
   "outputs": [],
   "source": [
    "# !pip install git+https://github.com/NHERI-SimCenter/BrailsPlusPlus\n",
    "# !pip install plotly"
   ]
  },
  {
   "cell_type": "code",
   "execution_count": 2,
   "id": "338b4e7d-d077-4e70-b1f5-56533822952e",
   "metadata": {},
   "outputs": [],
   "source": [
    "# Written: sy Aug 2024\n",
    "# License: BSD-2\n",
    "\n",
    "\"\"\"\n",
    " Purpose: Testing Imputer\n",
    "\"\"\"\n",
    "\n",
    "import os\n",
    "import sys\n",
    "import copy\n",
    "import json\n",
    "\n",
    "import numpy as np\n",
    "\n",
    "sys.path.insert(0, \"../../\")\n",
    "from brails.utils import Importer\n",
    "from brails.types.image_set import ImageSet    \n",
    "from brails.types.asset_inventory import Asset, AssetInventory\n"
   ]
  },
  {
   "cell_type": "code",
   "execution_count": 3,
   "id": "983a2e46-1c7d-4930-b3f4-ebc9cf8e6e1b",
   "metadata": {},
   "outputs": [],
   "source": [
    "file_path = \"./nsi_altantic_minimal.csv\""
   ]
  },
  {
   "cell_type": "code",
   "execution_count": 4,
   "id": "95568d75-7054-4e0f-b953-6f91fdff70e4",
   "metadata": {},
   "outputs": [],
   "source": [
    "# create an Import to get the classes\n",
    "\n",
    "importer = Importer()\n",
    "knn_imputer_class = importer.get_class(\"KnnImputer\")"
   ]
  },
  {
   "cell_type": "code",
   "execution_count": 5,
   "id": "439a77e4-ab42-4610-b7fc-c4142e30b5d7",
   "metadata": {},
   "outputs": [
    {
     "name": "stdout",
     "output_type": "stream",
     "text": [
      "No existing inventory found. Reading in the new inventory from the file.\n"
     ]
    },
    {
     "data": {
      "text/plain": [
       "True"
      ]
     },
     "execution_count": 5,
     "metadata": {},
     "output_type": "execute_result"
    }
   ],
   "source": [
    "inventory = AssetInventory()\n",
    "inventory.read_from_csv(file_path,keep_existing=True,id_column='id') "
   ]
  },
  {
   "cell_type": "code",
   "execution_count": 6,
   "id": "4f7a5e9e",
   "metadata": {},
   "outputs": [
    {
     "data": {
      "text/plain": [
       "{'id': 4,\n",
       " 'City': 'Somers Point',\n",
       " 'OccupancyClass': 'RES1',\n",
       " 'BuildingMaterial': 'Wood',\n",
       " 'DesignLevel': 'NE',\n",
       " 'YearBuilt': 1994,\n",
       " 'NumberOfStories': 2,\n",
       " 'PlanArea': 2416,\n",
       " 'FoundationType': 3504,\n",
       " 'SplitLevel': 0,\n",
       " 'Garage': 0,\n",
       " 'FirstFloorHt': 2,\n",
       " 'FloodZone': 'X',\n",
       " 'WindZone': 'I',\n",
       " 'AvgJanTemp': 'Above',\n",
       " 'RoofShape': 'hip',\n",
       " 'RoofSlope': 0,\n",
       " 'RoofFrameType': 'Wood',\n",
       " 'WindowArea': 0,\n",
       " 'DesignWindSpeed': 121.5296499,\n",
       " 'NumberOfUnits': 1,\n",
       " 'MeanRoofHt': 35.04684071,\n",
       " 'OBJECTID': 847181,\n",
       " 'geometry': 'POINT (-74.61723667499923 39.30829801705697)',\n",
       " 'type': 'building'}"
      ]
     },
     "execution_count": 6,
     "metadata": {},
     "output_type": "execute_result"
    }
   ],
   "source": [
    "inventory.get_asset_features(4)[1]  # empty or 'NA' are missing values"
   ]
  },
  {
   "cell_type": "code",
   "execution_count": 7,
   "id": "6ac98712-4e2c-4d01-a9c2-1ca6744d8e6a",
   "metadata": {},
   "outputs": [],
   "source": [
    "#inventory.remove_features(['RoofShape'])"
   ]
  },
  {
   "cell_type": "code",
   "execution_count": 8,
   "id": "a45b303c-a95b-4eb4-a573-117cf72a7a78",
   "metadata": {},
   "outputs": [],
   "source": [
    "hurricaneInferer = importer.get_class(\"HazusHurricaneInferer\")\n",
    "inferer=hurricaneInferer(input_inventory=inventory,clean_features = True)"
   ]
  },
  {
   "cell_type": "code",
   "execution_count": 9,
   "id": "315ef0a1-4b12-4bf9-83e8-2646f81ace12",
   "metadata": {},
   "outputs": [
    {
     "data": {
      "text/plain": [
       "[[-74.61718179, 39.3079507]]"
      ]
     },
     "execution_count": 9,
     "metadata": {},
     "output_type": "execute_result"
    }
   ],
   "source": [
    "inventory.get_asset_coordinates(1)[1]"
   ]
  },
  {
   "cell_type": "code",
   "execution_count": 10,
   "id": "cf9985de",
   "metadata": {},
   "outputs": [
    {
     "name": "stdout",
     "output_type": "stream",
     "text": [
      "Done inference. It took 0.17 mins\n"
     ]
    }
   ],
   "source": [
    "new_inventory = inferer.infer()"
   ]
  },
  {
   "cell_type": "code",
   "execution_count": 14,
   "id": "52eb458e-87a8-4e7a-9056-cc08b4ddb4ca",
   "metadata": {},
   "outputs": [
    {
     "data": {
      "text/plain": [
       "{'BuildingTag': 'W.SF.',\n",
       " 'TerrainRoughness': 15,\n",
       " 'NumberOfStories': 1,\n",
       " 'RoofShape': 'gab',\n",
       " 'SecondaryWaterResistance': 1,\n",
       " 'Shutters': 0,\n",
       " 'RoofDeckAttachmentW': '8d',\n",
       " 'RoofToWallConnection': 'strap',\n",
       " 'GarageDoor': 'no'}"
      ]
     },
     "execution_count": 14,
     "metadata": {},
     "output_type": "execute_result"
    }
   ],
   "source": [
    "new_inventory.get_asset_features(156)[1]  # empty or 'NA' are missing values"
   ]
  },
  {
   "cell_type": "code",
   "execution_count": 12,
   "id": "4ac36299-915e-4a6a-90fd-55405ef721a5",
   "metadata": {},
   "outputs": [],
   "source": [
    "# Make values human readable "
   ]
  }
 ],
 "metadata": {
  "kernelspec": {
   "display_name": "Python 3 (ipykernel)",
   "language": "python",
   "name": "python3"
  },
  "language_info": {
   "codemirror_mode": {
    "name": "ipython",
    "version": 3
   },
   "file_extension": ".py",
   "mimetype": "text/x-python",
   "name": "python",
   "nbconvert_exporter": "python",
   "pygments_lexer": "ipython3",
   "version": "3.10.10"
  }
 },
 "nbformat": 4,
 "nbformat_minor": 5
}
