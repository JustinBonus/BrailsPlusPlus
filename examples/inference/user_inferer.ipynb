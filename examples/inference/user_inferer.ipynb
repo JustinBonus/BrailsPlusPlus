{
 "cells": [
  {
   "cell_type": "markdown",
   "id": "b59a54a5-610d-4736-aa7d-805de5e4e0bc",
   "metadata": {},
   "source": [
    "# User inferer\n",
    "\n",
    "A user-provided python file shown below is used to update the brails-created asset inventory"
   ]
  },
  {
   "cell_type": "code",
   "execution_count": 3,
   "id": "51564e47-4eca-4666-8d0a-ce08b83bc327",
   "metadata": {},
   "outputs": [
    {
     "name": "stdout",
     "output_type": "stream",
     "text": [
      "import numpy as np\n",
      "\n",
      "\n",
      "def user_inferer(inventory_array):\n",
      "\n",
      "\t#\n",
      "\t# Defining my mapping following Table 6-10 in Hazus Inventory Technical Manual 6\n",
      "\t#\n",
      "\t# Baseline Hazus Contents Value as Percent of Structure Value\n",
      "\n",
      "\tcontents_value_over_str_value = {\n",
      "\t    \"RES1\": 0.50,\n",
      "\t    \"RES2\": 0.50,\n",
      "\t    \"RES3A\": 0.50,\n",
      "\t    \"RES3B\": 0.50,\n",
      "\t    \"RES3C\": 0.50,\n",
      "\t    \"RES3D\": 0.50,\n",
      "\t    \"RES3E\": 0.50,\n",
      "\t    \"RES3F\": 0.50,\n",
      "\t    \"RES3\": 0.50,\n",
      "\t    \"RES4\": 0.50,\n",
      "\t    \"RES5\": 0.50,\n",
      "\t    \"RES6\": 0.50,\n",
      "\t    \"COM1\": 1.00,\n",
      "\t    \"COM2\": 1.00,\n",
      "\t    \"COM3\": 1.00,\n",
      "\t    \"COM4\": 1.00,\n",
      "\t    \"COM5\": 1.00,\n",
      "\t    \"COM6\": 1.50,\n",
      "\t    \"COM7\": 1.50,\n",
      "\t    \"COM8\": 1.00,\n",
      "\t    \"COM9\": 1.00,\n",
      "\t    \"COM10\": 0.50,\n",
      "\t    \"IND1\": 1.50,\n",
      "\t    \"IND2\": 1.50,\n",
      "\t    \"IND3\": 1.50,\n",
      "\t    \"IND4\": 1.50,\n",
      "\t    \"IND5\": 1.50,\n",
      "\t    \"IND6\": 1.00,\n",
      "\t    \"AGR1\": 1.00,\n",
      "\t    \"REL1\": 1.00,\n",
      "\t    \"GOV1\": 1.00,\n",
      "\t    \"GOV2\": 1.50,\n",
      "\t    \"EDU1\": 1.00,\n",
      "\t    \"EDU2\": 1.50\n",
      "\t}\n",
      "\n",
      "\tnew_features = {}\n",
      "\tfor idx,bldg in inventory_array.items():\n",
      "\n",
      "\t\tocc_type = bldg[\"properties\"][\"occupancy\"]\n",
      "\t\tcontents_value_ratio = contents_value_over_str_value.get(occ_type, np.nan)\n",
      "\t\tcontents_value = contents_value_ratio * bldg[\"properties\"][\"repaircost\"]\n",
      "\t\tnew_features[idx] = {\"contentsValue\": contents_value}\n",
      "\n",
      "\treturn new_features\n",
      "\n"
     ]
    }
   ],
   "source": [
    "import os\n",
    "\n",
    "cwd = os.getcwd()\n",
    "filepath =  os.path.join(cwd,\"content_value_inferer.py\")\n",
    "\n",
    "with open(filepath, 'r') as f:\n",
    "    file_contents = f.read()\n",
    "print(file_contents)"
   ]
  },
  {
   "cell_type": "markdown",
   "id": "76fab5b2-5759-45e1-abe7-2e997731fd03",
   "metadata": {},
   "source": [
    "The python file needs to contain a function named \"user_inferer\" which takes the current inventory (json format) as input and outputs the new features (json format). Below is example of the current inventory"
   ]
  },
  {
   "cell_type": "markdown",
   "id": "e72c1c78-2802-4930-9b21-b0ef74280be8",
   "metadata": {},
   "source": [
    "## Generation of base inventory"
   ]
  },
  {
   "cell_type": "code",
   "execution_count": 4,
   "id": "68c3f555-1fd8-4991-b887-8927386669eb",
   "metadata": {},
   "outputs": [],
   "source": [
    "import sys\n",
    "import copy\n",
    "\n",
    "sys.path.insert(0, \"../../\")\n",
    "from brails.utils import Importer\n",
    "from brails.types.image_set import ImageSet    \n",
    "from brails.types.asset_inventory import Asset, AssetInventory\n",
    "importer = Importer()"
   ]
  },
  {
   "cell_type": "code",
   "execution_count": 5,
   "id": "dce41c4d-e2e7-4ae6-a983-70269f9870b4",
   "metadata": {},
   "outputs": [],
   "source": [
    "region_data = {\"type\": \"locationName\", \"data\": \"Fort Myers Beach\"}\n",
    "region_boundary_class = importer.get_class(\"RegionBoundary\")\n",
    "region_boundary_object = region_boundary_class(region_data)"
   ]
  },
  {
   "cell_type": "code",
   "execution_count": 6,
   "id": "a68fe4d8-11c7-4e20-a6b7-3a4fbbe083ef",
   "metadata": {},
   "outputs": [
    {
     "name": "stdout",
     "output_type": "stream",
     "text": [
      "Trying OSM_FootprintsScraper ...\n",
      "\n",
      "Searching for Fort Myers Beach...\n",
      "Found Fort Myers Beach, Lee County, Florida, 33931, United States\n",
      "\n",
      "Found a total of 2768 building footprints in Fort Myers Beach\n"
     ]
    }
   ],
   "source": [
    "#\n",
    "# Get Footprints using OSM\n",
    "#\n",
    "\n",
    "print(\"Trying OSM_FootprintsScraper ...\")\n",
    "\n",
    "osm_class = importer.get_class(\"OSM_FootprintScraper\")\n",
    "osm_data = {\"length\": \"ft\"}\n",
    "osm = osm_class(osm_data)\n",
    "osm_inventory = osm.get_footprints(region_boundary_object)\n"
   ]
  },
  {
   "cell_type": "code",
   "execution_count": 7,
   "id": "e6036189-1f98-4bd0-8e67-01784c4c2007",
   "metadata": {},
   "outputs": [],
   "source": [
    "nsi_class = importer.get_class(\"NSI_Parser\")\n",
    "nsi = nsi_class()"
   ]
  },
  {
   "cell_type": "code",
   "execution_count": 8,
   "id": "9a095386-7a0c-4b27-819c-1a1e60a73ecb",
   "metadata": {},
   "outputs": [
    {
     "name": "stdout",
     "output_type": "stream",
     "text": [
      "\n",
      "Getting National Structure Inventory (NSI) building data for the entered location input...\n",
      "Found a total of 2503 building points in NSI that match the footprint data.\n"
     ]
    }
   ],
   "source": [
    "my_inventory = nsi.get_filtered_data_given_inventory(osm_inventory, \"ft\")\n"
   ]
  },
  {
   "cell_type": "code",
   "execution_count": 9,
   "id": "b063908c-8995-4a68-9e0f-d28b87b9f906",
   "metadata": {},
   "outputs": [
    {
     "data": {
      "text/plain": [
       "(True,\n",
       " {'type': 'Building',\n",
       "  'buildingheight': 'NA',\n",
       "  'erabuilt': 'NA',\n",
       "  'numstories': 'NA',\n",
       "  'roofshape': 'NA',\n",
       "  'fpAreas': 8238})"
      ]
     },
     "execution_count": 9,
     "metadata": {},
     "output_type": "execute_result"
    }
   ],
   "source": [
    "my_inventory.get_asset_features(1)"
   ]
  },
  {
   "cell_type": "code",
   "execution_count": 10,
   "id": "6ba8de7d-0474-4f65-87fa-ea9946984de6",
   "metadata": {},
   "outputs": [
    {
     "name": "stdout",
     "output_type": "stream",
     "text": [
      "Features with no reference data cannot be imputed. Removing them from the imputation target: buildingheight\n",
      "Missing percentages among 2768 assets\n",
      "erabuilt: 9.57%\n",
      "numstories: 9.57%\n",
      "roofshape: 99.82%\n",
      "fparea: 9.57%\n",
      "repaircost: 9.57%\n",
      "constype: 9.57%\n",
      "occupancy: 9.57%\n",
      "Primitive imputation done.\n",
      "Running the main imputation. This may take a while.\n",
      "Done imputation. It took 0.10 mins\n"
     ]
    }
   ],
   "source": [
    "knn_imputer_class = importer.get_class(\"KnnImputer\")\n",
    "imputer=knn_imputer_class()\n",
    "fort_myers_imputed = imputer.impute(my_inventory,n_possible_worlds=10, exclude_features=[\"lon\",\"lat\",\"fd_id\"])"
   ]
  },
  {
   "cell_type": "code",
   "execution_count": 11,
   "id": "da939816-2e27-49bc-9063-be8f3118e0d8",
   "metadata": {},
   "outputs": [
    {
     "data": {
      "text/plain": [
       "(True,\n",
       " {'type': 'Building',\n",
       "  'buildingheight': 'NA',\n",
       "  'erabuilt': 1983.0,\n",
       "  'numstories': 1.0,\n",
       "  'roofshape': 'flat',\n",
       "  'fpAreas': 8238,\n",
       "  'fparea': [605.35504,\n",
       "   1210.45,\n",
       "   1210.45,\n",
       "   372.847142,\n",
       "   2987.0,\n",
       "   605.35504,\n",
       "   463.525678,\n",
       "   1210.45,\n",
       "   1210.45,\n",
       "   1210.45],\n",
       "  'repaircost': [212759.348,\n",
       "   212759.348,\n",
       "   190695.273,\n",
       "   68733.4113,\n",
       "   158685.666,\n",
       "   212759.348,\n",
       "   212759.348,\n",
       "   212759.348,\n",
       "   212759.348,\n",
       "   190695.273],\n",
       "  'constype': 'W1',\n",
       "  'occupancy': ['RES1',\n",
       "   'RES1',\n",
       "   'RES1',\n",
       "   'RES1',\n",
       "   'RES1',\n",
       "   'RES1',\n",
       "   'RES1',\n",
       "   'REL1',\n",
       "   'RES1',\n",
       "   'RES1']})"
      ]
     },
     "execution_count": 11,
     "metadata": {},
     "output_type": "execute_result"
    }
   ],
   "source": [
    "fort_myers_imputed.get_asset_features(1)"
   ]
  },
  {
   "cell_type": "markdown",
   "id": "2800d490-1e1f-4fac-805f-0454b8499910",
   "metadata": {},
   "source": [
    "# Run user inferer to update the floor area"
   ]
  },
  {
   "cell_type": "code",
   "execution_count": 12,
   "id": "721e3ffd-7f23-4dd6-a014-ad55212b0626",
   "metadata": {},
   "outputs": [
    {
     "name": "stdout",
     "output_type": "stream",
     "text": [
      "All assets are updated\n"
     ]
    }
   ],
   "source": [
    "user_inferer_class = importer.get_class(\"UserInferer\")\n",
    "inferer=user_inferer_class()\n",
    "\n",
    "fort_myers_inferred = inferer.infer(fort_myers_imputed,filepath)"
   ]
  },
  {
   "cell_type": "code",
   "execution_count": 13,
   "id": "801197ca-5a35-4cec-bc59-76b462b51e4e",
   "metadata": {},
   "outputs": [
    {
     "data": {
      "text/plain": [
       "(True,\n",
       " {'type': 'Building',\n",
       "  'buildingheight': 'NA',\n",
       "  'erabuilt': [1973.0,\n",
       "   1973.0,\n",
       "   1973.0,\n",
       "   1973.0,\n",
       "   1973.0,\n",
       "   1973.0,\n",
       "   1973.0,\n",
       "   1973.0,\n",
       "   1973.0,\n",
       "   1974.0],\n",
       "  'numstories': 1.0,\n",
       "  'roofshape': 'flat',\n",
       "  'fpAreas': 564,\n",
       "  'fparea': 1210.45,\n",
       "  'repaircost': 212759.348,\n",
       "  'constype': ['W1', 'C1', 'W1', 'C1', 'W1', 'W1', 'W1', 'C1', 'W1', 'W1'],\n",
       "  'occupancy': ['COM4',\n",
       "   'RES3A',\n",
       "   'COM4',\n",
       "   'COM4',\n",
       "   'RES1',\n",
       "   'COM4',\n",
       "   'RES1',\n",
       "   'RES1',\n",
       "   'COM4',\n",
       "   'RES3A'],\n",
       "  'contentsValue': [212759.348,\n",
       "   106379.674,\n",
       "   212759.348,\n",
       "   212759.348,\n",
       "   106379.674,\n",
       "   212759.348,\n",
       "   106379.674,\n",
       "   106379.674,\n",
       "   212759.348,\n",
       "   106379.674]})"
      ]
     },
     "execution_count": 13,
     "metadata": {},
     "output_type": "execute_result"
    }
   ],
   "source": [
    "fort_myers_inferred.get_asset_features(55)"
   ]
  },
  {
   "cell_type": "markdown",
   "id": "47b9f714-ad8a-47af-aac4-e6705773db90",
   "metadata": {},
   "source": [
    "### Note you can also avoid the overwritting of already existing values"
   ]
  },
  {
   "cell_type": "code",
   "execution_count": 14,
   "id": "39cf48be-3a90-44c7-8d41-69be9385a142",
   "metadata": {},
   "outputs": [
    {
     "name": "stdout",
     "output_type": "stream",
     "text": [
      "All assets are updated\n"
     ]
    }
   ],
   "source": [
    "fort_myers_inferred = inferer.infer(fort_myers_imputed, filepath,overwrite=False)"
   ]
  },
  {
   "cell_type": "code",
   "execution_count": 15,
   "id": "e1386361-640c-4954-aee3-247f35dfe134",
   "metadata": {},
   "outputs": [
    {
     "data": {
      "text/plain": [
       "(True,\n",
       " {'type': 'Building',\n",
       "  'buildingheight': 'NA',\n",
       "  'erabuilt': 1983.0,\n",
       "  'numstories': 1.0,\n",
       "  'roofshape': 'flat',\n",
       "  'fpAreas': 8238,\n",
       "  'fparea': [605.35504,\n",
       "   1210.45,\n",
       "   1210.45,\n",
       "   372.847142,\n",
       "   2987.0,\n",
       "   605.35504,\n",
       "   463.525678,\n",
       "   1210.45,\n",
       "   1210.45,\n",
       "   1210.45],\n",
       "  'repaircost': [212759.348,\n",
       "   212759.348,\n",
       "   190695.273,\n",
       "   68733.4113,\n",
       "   158685.666,\n",
       "   212759.348,\n",
       "   212759.348,\n",
       "   212759.348,\n",
       "   212759.348,\n",
       "   190695.273],\n",
       "  'constype': 'W1',\n",
       "  'occupancy': ['RES1',\n",
       "   'RES1',\n",
       "   'RES1',\n",
       "   'RES1',\n",
       "   'RES1',\n",
       "   'RES1',\n",
       "   'RES1',\n",
       "   'REL1',\n",
       "   'RES1',\n",
       "   'RES1'],\n",
       "  'contentsValue': [106379.674,\n",
       "   106379.674,\n",
       "   95347.6365,\n",
       "   34366.70565,\n",
       "   79342.833,\n",
       "   106379.674,\n",
       "   106379.674,\n",
       "   212759.348,\n",
       "   106379.674,\n",
       "   95347.6365]})"
      ]
     },
     "execution_count": 15,
     "metadata": {},
     "output_type": "execute_result"
    }
   ],
   "source": [
    "fort_myers_inferred.get_asset_features(1)"
   ]
  },
  {
   "cell_type": "code",
   "execution_count": null,
   "id": "78a33c11-6047-4288-b07d-2ebe8c2bfdf0",
   "metadata": {},
   "outputs": [],
   "source": []
  },
  {
   "cell_type": "code",
   "execution_count": null,
   "id": "d511b20e-4a0f-4a5c-8799-82e162a871c4",
   "metadata": {},
   "outputs": [],
   "source": []
  },
  {
   "cell_type": "code",
   "execution_count": null,
   "id": "44c13c99-8d43-460d-957f-3ad151af65f2",
   "metadata": {},
   "outputs": [],
   "source": []
  },
  {
   "cell_type": "code",
   "execution_count": null,
   "id": "2b4518e5-b256-4e3b-b797-76ae62bd71c7",
   "metadata": {},
   "outputs": [],
   "source": []
  },
  {
   "cell_type": "code",
   "execution_count": null,
   "id": "a5a654fb-262d-4b5f-a76c-e74fa3c2a415",
   "metadata": {},
   "outputs": [],
   "source": []
  }
 ],
 "metadata": {
  "kernelspec": {
   "display_name": "Python 3 (ipykernel)",
   "language": "python",
   "name": "python3"
  },
  "language_info": {
   "codemirror_mode": {
    "name": "ipython",
    "version": 3
   },
   "file_extension": ".py",
   "mimetype": "text/x-python",
   "name": "python",
   "nbconvert_exporter": "python",
   "pygments_lexer": "ipython3",
   "version": "3.10.10"
  }
 },
 "nbformat": 4,
 "nbformat_minor": 5
}
