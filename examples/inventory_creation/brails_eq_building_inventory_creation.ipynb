{
 "cells": [
  {
   "cell_type": "markdown",
   "id": "6b547e63-2249-4acd-925d-33724e840987",
   "metadata": {},
   "source": [
    "# Import Required Packages"
   ]
  },
  {
   "cell_type": "code",
   "execution_count": 1,
   "id": "13c67c37-4094-4402-9fcd-0bdabe0b249e",
   "metadata": {},
   "outputs": [],
   "source": [
    "import numpy as np\n",
    "from brails.utils import Importer"
   ]
  },
  {
   "cell_type": "markdown",
   "id": "64082d44-b0a3-45a6-a3a3-63fcea03f16f",
   "metadata": {},
   "source": [
    "# Define Location Specific Parameters"
   ]
  },
  {
   "cell_type": "code",
   "execution_count": 2,
   "id": "18195011-9265-4540-a822-d21dd02f5988",
   "metadata": {},
   "outputs": [],
   "source": [
    "LOCATION_NAME = (-122.884, 37.1042, -121.415, 38.3523)\n",
    "INVENTORY_OUTPUT = 'BayAreaInventory_EQ.geojson'\n",
    "NO_POSSIBLE_WORLDS = 1"
   ]
  },
  {
   "cell_type": "markdown",
   "id": "b827809a-32d2-4fcf-9fef-dd5c55291f4e",
   "metadata": {},
   "source": [
    "# Create and Importer object to Pull In Required BRAILS Modules"
   ]
  },
  {
   "cell_type": "code",
   "execution_count": 3,
   "id": "883970d2-26e5-4872-bde2-2bbc9f09b61a",
   "metadata": {},
   "outputs": [],
   "source": [
    "importer = Importer()"
   ]
  },
  {
   "cell_type": "markdown",
   "id": "6de5ef2e-28f2-4995-a603-10beae7d1e26",
   "metadata": {},
   "source": [
    "# Define the Region Object for the Region of Interest"
   ]
  },
  {
   "cell_type": "code",
   "execution_count": 4,
   "id": "a89f3301-7c91-484a-ada7-921cbf899496",
   "metadata": {},
   "outputs": [],
   "source": [
    "region_data = {\"type\": \"locationPolygon\", \"data\": LOCATION_NAME}\n",
    "region_boundary_class = importer.get_class(\"RegionBoundary\")\n",
    "region_boundary_object = region_boundary_class(region_data)"
   ]
  },
  {
   "cell_type": "markdown",
   "id": "d69f2f3a-e8d5-4282-ace7-d298fba12d44",
   "metadata": {},
   "source": [
    "# Get Raw NSI Data for the Defined Region"
   ]
  },
  {
   "cell_type": "code",
   "execution_count": 5,
   "id": "5d06792f-6b37-41b1-a99f-7c903623ec10",
   "metadata": {},
   "outputs": [
    {
     "name": "stderr",
     "output_type": "stream",
     "text": [
      "INFO:root:\n",
      "Getting National Structure Inventory (NSI) building data for the entered location...\n"
     ]
    },
    {
     "name": "stdout",
     "output_type": "stream",
     "text": [
      "\n",
      "Found a total of 1915463 building points in NSI that are within the entered region of interest\n"
     ]
    }
   ],
   "source": [
    "nsi_class = importer.get_class('NSI_Parser')\n",
    "nsi = nsi_class()\n",
    "nsi_inventory = nsi.get_raw_data(region_boundary_object)"
   ]
  },
  {
   "cell_type": "markdown",
   "id": "c46785d6-fd76-4322-853c-36ed3c85c9a9",
   "metadata": {},
   "source": [
    "# Get FEMA USA Footprints Data for the Defined Region"
   ]
  },
  {
   "cell_type": "code",
   "execution_count": 6,
   "id": "3fbc180d-9ca9-46a1-8599-ff4747cb4a9a",
   "metadata": {},
   "outputs": [
    {
     "name": "stdout",
     "output_type": "stream",
     "text": [
      "\n",
      "Found a total of 1867019 building footprints in the bounding box: [-122.884, 37.1042, -121.415, 38.3523]\n"
     ]
    }
   ],
   "source": [
    "scraper_class = importer.get_class('OSM_FootprintScraper')\n",
    "scraper = scraper_class({'length': 'ft'})\n",
    "scraper_inventory = scraper.get_footprints(region_boundary_object)"
   ]
  },
  {
   "cell_type": "markdown",
   "id": "84256fd8-313f-463a-8371-f1a06ebb8635",
   "metadata": {},
   "source": [
    "# Create a Baseline Inventory by Merging NSI Raw Data and USA Structures Footprints"
   ]
  },
  {
   "cell_type": "code",
   "execution_count": 7,
   "id": "e5c1cab0-2029-4bd7-ba05-80711381a8ec",
   "metadata": {},
   "outputs": [
    {
     "name": "stdout",
     "output_type": "stream",
     "text": [
      "\n",
      "Getting National Structure Inventory (NSI) building data for the entered location...\n",
      "Found a total of 1433150 building points in NSI that match the footprint data.\n"
     ]
    }
   ],
   "source": [
    "nsi_inventory = nsi.get_filtered_data_given_inventory(\n",
    "    scraper_inventory, \"ft\", get_extended_features=True)"
   ]
  },
  {
   "cell_type": "markdown",
   "id": "78efa81a-432f-421c-9521-c8e6f2a184c4",
   "metadata": {},
   "source": [
    "# Fill Gaps in the Baseline Inventory by Imputing Missing Values"
   ]
  },
  {
   "cell_type": "code",
   "execution_count": 8,
   "id": "148c25b0-1693-4462-94ee-94e34bfa4c7b",
   "metadata": {},
   "outputs": [
    {
     "name": "stderr",
     "output_type": "stream",
     "text": [
      "/home/bacetiner/anaconda3/envs/brails_plus/lib/python3.11/site-packages/brails/imputers/knn_imputer/knn_imputer.py:157: FutureWarning: Downcasting behavior in `replace` is deprecated and will be removed in a future version. To retain the old behavior, explicitly call `result.infer_objects(copy=False)`. To opt-in to the future behavior, set `pd.set_option('future.no_silent_downcasting', True)`\n",
      "  bldg_properties_df = bldg_properties_df.replace(\"NA\", np.nan, inplace=False)\n"
     ]
    },
    {
     "name": "stdout",
     "output_type": "stream",
     "text": [
      "Missing percentages among 1867019 assets\n",
      "buildingheight: 75.43%\n",
      "erabuilt: 23.20%\n",
      "numstories: 22.88%\n",
      "roofshape: 99.80%\n",
      "fparea: 23.24%\n",
      "repaircost: 23.24%\n",
      "constype: 23.24%\n",
      "occupancy: 23.24%\n",
      "found_ht: 23.24%\n",
      "splitlevel: 23.24%\n",
      "basement: 36.24%\n",
      "Primitive imputation done.\n",
      "Running the main imputation. This may take a while.\n",
      "Enumerating clusters: 20 among 3735\n",
      "Enumerating clusters: 40 among 3735\n",
      "Enumerating clusters: 60 among 3735\n",
      "Enumerating clusters: 80 among 3735\n",
      "Enumerating clusters: 100 among 3735\n",
      "Enumerating clusters: 120 among 3735\n",
      "Enumerating clusters: 140 among 3735\n",
      "Enumerating clusters: 160 among 3735\n",
      "Enumerating clusters: 180 among 3735\n",
      "Enumerating clusters: 200 among 3735\n",
      "Enumerating clusters: 220 among 3735\n",
      "Enumerating clusters: 240 among 3735\n",
      "Enumerating clusters: 260 among 3735\n",
      "Enumerating clusters: 280 among 3735\n",
      "Enumerating clusters: 300 among 3735\n",
      "Enumerating clusters: 320 among 3735\n",
      "Enumerating clusters: 340 among 3735\n",
      "Enumerating clusters: 360 among 3735\n",
      "Enumerating clusters: 380 among 3735\n",
      "Enumerating clusters: 400 among 3735\n",
      "Enumerating clusters: 420 among 3735\n",
      "Enumerating clusters: 440 among 3735\n",
      "Enumerating clusters: 460 among 3735\n",
      "Enumerating clusters: 480 among 3735\n",
      "Enumerating clusters: 500 among 3735\n",
      "Enumerating clusters: 520 among 3735\n",
      "Enumerating clusters: 540 among 3735\n",
      "Enumerating clusters: 560 among 3735\n",
      "Enumerating clusters: 580 among 3735\n",
      "Enumerating clusters: 600 among 3735\n",
      "Enumerating clusters: 620 among 3735\n",
      "Enumerating clusters: 640 among 3735\n",
      "Enumerating clusters: 660 among 3735\n",
      "Enumerating clusters: 680 among 3735\n",
      "Enumerating clusters: 700 among 3735\n",
      "Enumerating clusters: 720 among 3735\n",
      "Enumerating clusters: 740 among 3735\n",
      "Enumerating clusters: 760 among 3735\n",
      "Enumerating clusters: 780 among 3735\n",
      "Enumerating clusters: 800 among 3735\n",
      "Enumerating clusters: 820 among 3735\n",
      "Enumerating clusters: 840 among 3735\n",
      "Enumerating clusters: 860 among 3735\n",
      "Enumerating clusters: 880 among 3735\n",
      "Enumerating clusters: 900 among 3735\n",
      "Enumerating clusters: 920 among 3735\n",
      "Enumerating clusters: 940 among 3735\n",
      "Enumerating clusters: 960 among 3735\n",
      "Enumerating clusters: 980 among 3735\n",
      "Enumerating clusters: 1000 among 3735\n",
      "Enumerating clusters: 1020 among 3735\n",
      "Enumerating clusters: 1040 among 3735\n",
      "Enumerating clusters: 1060 among 3735\n",
      "Enumerating clusters: 1080 among 3735\n",
      "Enumerating clusters: 1100 among 3735\n",
      "Enumerating clusters: 1120 among 3735\n",
      "Enumerating clusters: 1140 among 3735\n",
      "Enumerating clusters: 1160 among 3735\n",
      "Enumerating clusters: 1180 among 3735\n",
      "Enumerating clusters: 1200 among 3735\n",
      "Enumerating clusters: 1220 among 3735\n",
      "Enumerating clusters: 1240 among 3735\n",
      "Enumerating clusters: 1260 among 3735\n",
      "Enumerating clusters: 1280 among 3735\n",
      "Enumerating clusters: 1300 among 3735\n",
      "Enumerating clusters: 1320 among 3735\n",
      "Enumerating clusters: 1340 among 3735\n",
      "Enumerating clusters: 1360 among 3735\n",
      "Enumerating clusters: 1380 among 3735\n",
      "Enumerating clusters: 1400 among 3735\n",
      "Enumerating clusters: 1420 among 3735\n",
      "Enumerating clusters: 1440 among 3735\n",
      "Enumerating clusters: 1460 among 3735\n",
      "Enumerating clusters: 1480 among 3735\n",
      "Enumerating clusters: 1500 among 3735\n",
      "Enumerating clusters: 1520 among 3735\n",
      "Enumerating clusters: 1540 among 3735\n",
      "Enumerating clusters: 1560 among 3735\n",
      "Enumerating clusters: 1580 among 3735\n",
      "Enumerating clusters: 1600 among 3735\n",
      "Enumerating clusters: 1620 among 3735\n",
      "Enumerating clusters: 1640 among 3735\n",
      "Enumerating clusters: 1660 among 3735\n",
      "Enumerating clusters: 1680 among 3735\n",
      "Enumerating clusters: 1700 among 3735\n",
      "Enumerating clusters: 1720 among 3735\n",
      "Enumerating clusters: 1740 among 3735\n",
      "Enumerating clusters: 1760 among 3735\n",
      "Enumerating clusters: 1780 among 3735\n",
      "Enumerating clusters: 1800 among 3735\n",
      "Enumerating clusters: 1820 among 3735\n",
      "Enumerating clusters: 1840 among 3735\n",
      "Enumerating clusters: 1860 among 3735\n",
      "Enumerating clusters: 1880 among 3735\n",
      "Enumerating clusters: 1900 among 3735\n",
      "Enumerating clusters: 1920 among 3735\n",
      "Enumerating clusters: 1940 among 3735\n",
      "Enumerating clusters: 1960 among 3735\n",
      "Enumerating clusters: 1980 among 3735\n",
      "Enumerating clusters: 2000 among 3735\n",
      "Enumerating clusters: 2020 among 3735\n",
      "Enumerating clusters: 2040 among 3735\n",
      "Enumerating clusters: 2060 among 3735\n",
      "Enumerating clusters: 2080 among 3735\n",
      "Enumerating clusters: 2100 among 3735\n",
      "Enumerating clusters: 2120 among 3735\n",
      "Enumerating clusters: 2140 among 3735\n",
      "Enumerating clusters: 2160 among 3735\n",
      "Enumerating clusters: 2180 among 3735\n",
      "Enumerating clusters: 2200 among 3735\n",
      "Enumerating clusters: 2220 among 3735\n",
      "Enumerating clusters: 2240 among 3735\n",
      "Enumerating clusters: 2260 among 3735\n",
      "Enumerating clusters: 2280 among 3735\n",
      "Enumerating clusters: 2300 among 3735\n",
      "Enumerating clusters: 2320 among 3735\n",
      "Enumerating clusters: 2340 among 3735\n",
      "Enumerating clusters: 2360 among 3735\n",
      "Enumerating clusters: 2380 among 3735\n",
      "Enumerating clusters: 2400 among 3735\n",
      "Enumerating clusters: 2420 among 3735\n",
      "Enumerating clusters: 2440 among 3735\n",
      "Enumerating clusters: 2460 among 3735\n",
      "Enumerating clusters: 2480 among 3735\n",
      "Enumerating clusters: 2500 among 3735\n",
      "Enumerating clusters: 2520 among 3735\n",
      "Enumerating clusters: 2540 among 3735\n",
      "Enumerating clusters: 2560 among 3735\n",
      "Enumerating clusters: 2580 among 3735\n",
      "Enumerating clusters: 2600 among 3735\n",
      "Enumerating clusters: 2620 among 3735\n",
      "Enumerating clusters: 2640 among 3735\n",
      "Enumerating clusters: 2660 among 3735\n",
      "Enumerating clusters: 2680 among 3735\n",
      "Enumerating clusters: 2700 among 3735\n",
      "Enumerating clusters: 2720 among 3735\n",
      "Enumerating clusters: 2740 among 3735\n",
      "Enumerating clusters: 2760 among 3735\n",
      "Enumerating clusters: 2780 among 3735\n",
      "Enumerating clusters: 2800 among 3735\n",
      "Enumerating clusters: 2820 among 3735\n",
      "Enumerating clusters: 2840 among 3735\n",
      "Enumerating clusters: 2860 among 3735\n",
      "Enumerating clusters: 2880 among 3735\n",
      "Enumerating clusters: 2900 among 3735\n",
      "Enumerating clusters: 2920 among 3735\n",
      "Enumerating clusters: 2940 among 3735\n",
      "Enumerating clusters: 2960 among 3735\n",
      "Enumerating clusters: 2980 among 3735\n",
      "Enumerating clusters: 3000 among 3735\n",
      "Enumerating clusters: 3020 among 3735\n",
      "Enumerating clusters: 3040 among 3735\n",
      "Enumerating clusters: 3060 among 3735\n",
      "Enumerating clusters: 3080 among 3735\n",
      "Enumerating clusters: 3100 among 3735\n",
      "Enumerating clusters: 3120 among 3735\n",
      "Enumerating clusters: 3140 among 3735\n",
      "Enumerating clusters: 3160 among 3735\n",
      "Enumerating clusters: 3180 among 3735\n",
      "Enumerating clusters: 3200 among 3735\n",
      "Enumerating clusters: 3220 among 3735\n",
      "Enumerating clusters: 3240 among 3735\n",
      "Enumerating clusters: 3260 among 3735\n",
      "Enumerating clusters: 3280 among 3735\n",
      "Enumerating clusters: 3300 among 3735\n",
      "Enumerating clusters: 3320 among 3735\n",
      "Enumerating clusters: 3340 among 3735\n",
      "Enumerating clusters: 3360 among 3735\n",
      "Enumerating clusters: 3380 among 3735\n",
      "Enumerating clusters: 3400 among 3735\n",
      "Enumerating clusters: 3420 among 3735\n",
      "Enumerating clusters: 3440 among 3735\n",
      "Enumerating clusters: 3460 among 3735\n",
      "Enumerating clusters: 3480 among 3735\n",
      "Enumerating clusters: 3500 among 3735\n",
      "Enumerating clusters: 3520 among 3735\n",
      "Enumerating clusters: 3540 among 3735\n",
      "Enumerating clusters: 3560 among 3735\n",
      "Enumerating clusters: 3580 among 3735\n",
      "Enumerating clusters: 3600 among 3735\n",
      "Enumerating clusters: 3620 among 3735\n",
      "Enumerating clusters: 3640 among 3735\n",
      "Enumerating clusters: 3660 among 3735\n",
      "Enumerating clusters: 3680 among 3735\n",
      "Enumerating clusters: 3700 among 3735\n",
      "Enumerating clusters: 3720 among 3735\n",
      "Done imputation. It took 5.96 mins\n"
     ]
    }
   ],
   "source": [
    "knn_imputer_class = importer.get_class(\"KnnImputer\")\n",
    "\n",
    "imputer = knn_imputer_class(\n",
    "    nsi_inventory, n_possible_worlds=NO_POSSIBLE_WORLDS,\n",
    "    exclude_features=['lat', 'lon', 'fd_id'])\n",
    "imputed_inventory = imputer.impute()"
   ]
  },
  {
   "cell_type": "markdown",
   "id": "fb5df422-afe3-455a-9460-fe94ea664f92",
   "metadata": {},
   "source": [
    "# Generate Synthetic Income Data for Input into HAZUS Rulesets\n",
    "This is necessary because income data is currently a required input for the HAZUS rulesets in BRAILS++ "
   ]
  },
  {
   "cell_type": "code",
   "execution_count": 9,
   "id": "1457f9fc-ee5e-4943-8314-dc4b9b73afc8",
   "metadata": {},
   "outputs": [],
   "source": [
    "CA_AVG = 78672  # state average\n",
    "CA_STD_DEV = CA_AVG*0.5  # 50% cov\n",
    "\n",
    "# Step 1: Calculate the parameters of the underlying normal distribution\n",
    "mu = np.log(CA_AVG**2 /\n",
    "            np.sqrt(CA_STD_DEV**2 + CA_AVG**2))\n",
    "sigma = np.sqrt(np.log(1 + (CA_STD_DEV**2 / CA_AVG**2)))\n",
    "\n",
    "# Step 2: Generate the lognormal sample using the parameters of the normal\n",
    "# distribution\n",
    "for key, val in imputed_inventory.inventory.items():\n",
    "    lognormal_sample = np.random.lognormal(\n",
    "        mean=mu, sigma=sigma, size=NO_POSSIBLE_WORLDS)\n",
    "    val.add_features({\"Income\": lognormal_sample[0]})"
   ]
  },
  {
   "cell_type": "markdown",
   "id": "be8c99a0-15f0-47d9-8288-d510df458ee7",
   "metadata": {},
   "source": [
    "# Change Keys to Make Them Compatible with R2D "
   ]
  },
  {
   "cell_type": "code",
   "execution_count": 10,
   "id": "0d2ec6a5-d5d8-4382-8907-5d9e78fd1f41",
   "metadata": {},
   "outputs": [],
   "source": [
    "# The names of NEW keys to be inferred.\n",
    "STRUCTURE_TYPE_KEY = 'StructureTypeHazus'  # instead of  \"constype\" from NSI\n",
    "REPLACEMENT_COST_KEY = 'ReplacementCostHazus'  # instead of NSI \"repaircost\"\n",
    "\n",
    "# The names of existing keys to be used as \"predictors\"\n",
    "YEAR_BUILT_KEY = 'erabuilt'\n",
    "OCCUPANCY_CLASS_KEY = 'occupancy'\n",
    "INCOME_KEY = 'Income'\n",
    "NUMBER_OF_STORIES_KEY = 'numstories'\n",
    "PLAN_AREA_KEY = 'fpAreas'\n",
    "SPLIT_LEVEL_KEY = 'splitlevel'"
   ]
  },
  {
   "cell_type": "markdown",
   "id": "4b0bfdca-831b-4c76-9674-03927477b6de",
   "metadata": {},
   "source": [
    "# Run HAZUS Rulesets to Infer R2D-Required Data"
   ]
  },
  {
   "cell_type": "code",
   "execution_count": 11,
   "id": "ce74aa9a-692c-4e1a-b575-0fa06c4833f8",
   "metadata": {},
   "outputs": [
    {
     "name": "stdout",
     "output_type": "stream",
     "text": [
      ">> Step1 : Checking if OccupancyClass (occupancy) exist.\n",
      ">> Step2-1 : Checking if StructureType (StructureTypeHazus) and ReplacementCost (ReplacementCostHazus) exist\n",
      ">> Step2-2 : Inferring {'ReplacementCostHazus', 'StructureTypeHazus'}\n"
     ]
    },
    {
     "name": "stderr",
     "output_type": "stream",
     "text": [
      "WARNING:brails.inferers.hazus_inferer.hazus_inferer: HAZUS does not provide structural type information for West Coast-REL1-high_rise-pre_1950. StructureTypeHazus will be missing in id=[131537, 135525]\n",
      "WARNING:brails.inferers.hazus_inferer.hazus_inferer: HAZUS does not provide structural type information for West Coast-REL1-high_rise-1950_to_1970. StructureTypeHazus will be missing in id=[132377, 321091, 507868, 968395, 1253024, 1808514]\n",
      "WARNING:brails.inferers.hazus_inferer.hazus_inferer: HAZUS does not provide structural type information for West Coast-REL1-high_rise-post_1970. StructureTypeHazus will be missing in id=[964372, 1478878, 1669622, 1706958]\n",
      "WARNING:brails.inferers.hazus_inferer.hazus_inferer: HAZUS does not provide structural type information for West Coast-COM2-high_rise-pre_1950. StructureTypeHazus will be missing in id=[1254, 4278, 9747, 115019, 132396, 152336, 691690, 1831174]\n",
      "WARNING:brails.inferers.hazus_inferer.hazus_inferer: HAZUS does not provide structural type information for West Coast-COM2-high_rise-1950_to_1970. StructureTypeHazus will be missing in id=[13740, 25957, 54190, 496391, 589044, 912962, 932519, 932520, 938980, 938985, 970509, 986302, 1186369, 1456985, 1499147, 1552481, 1553092, 1554059, 1554162, 1717664, 1850983]\n",
      "WARNING:brails.inferers.hazus_inferer.hazus_inferer: HAZUS does not provide structural type information for West Coast-COM2-high_rise-post_1970. StructureTypeHazus will be missing in id=[123, 1384, 3699, 5629, 59572, 247056, 247058, 476484, 540625, 544439, 570767, 925132, 925133, 929728, 970763, 982079, 1018332, 1018635, 1204364, 1437343, 1442138, 1462352, 1463144, 1504150, 1544511, 1766142, 1827056, 1860204]\n",
      "WARNING:brails.inferers.hazus_inferer.hazus_inferer: HAZUS does not provide structural type information for West Coast-RES2-mid_rise-1950_to_1970. StructureTypeHazus will be missing in id=[83867, 83975, 83982, 84062, 84223, 1103914, 1483346, 1512986, 1513955, 1517511, 1553383]\n",
      "WARNING:brails.inferers.hazus_inferer.hazus_inferer: HAZUS does not provide structural type information for West Coast-RES2-mid_rise-post_1970. StructureTypeHazus will be missing in id=[87787, 87803, 246509, 572867, 572869, 802038, 934625, 971583, 1105281, 1105286, 1105287, 1105289, 1105291, 1105294, 1105295, 1105296, 1105297, 1105310, 1105315, 1105336, 1105337, 1105343, 1105344, 1105345, 1105371, 1105375, 1105376, 1105390, 1105391, 1105392, 1105393, 1105394, 1105399, 1105400, 1105417, 1105421, 1105424, 1105425, 1105427, 1105428, 1105429, 1105431, 1105432, 1105434, 1105447, 1105448, 1105449, 1105450, 1105451, 1105452, 1105453, 1105454, 1105462, 1105465, 1105466, 1105467, 1105477, 1105478, 1105480, 1105487, 1105488, 1105489, 1105493, 1105494, 1105495, 1105497, 1105498, 1105506, 1105507, 1105508, 1105509, 1105511, 1105517, 1105518, 1105520, 1105521, 1105522, 1105527, 1105528, 1105529, 1105530, 1105531, 1219060, 1448796, 1480146, 1488723, 1520706, 1523798, 1535147, 1791244, 1840389, 1840396, 1865664]\n",
      "WARNING:brails.inferers.hazus_inferer.hazus_inferer: HAZUS does not provide structural type information for West Coast-RES2-high_rise-1950_to_1970. StructureTypeHazus will be missing in id=[83774, 83865, 83921, 83927, 83946, 83951, 84016, 84026, 84030, 84031, 84068, 84103, 84132, 84153, 84185, 84210, 84213, 84227, 84267, 84276, 84281, 84301, 84321, 84358, 84381, 84460, 84465, 572790, 572791]\n",
      "WARNING:brails.inferers.hazus_inferer.hazus_inferer: HAZUS does not provide structural type information for West Coast-RES2-high_rise-post_1970. StructureTypeHazus will be missing in id=[88119, 88298, 246487, 246499, 303524, 551292, 1105341, 1105342, 1105388, 1105389, 1105499, 1105500, 1105519, 1857745]\n",
      "WARNING:brails.inferers.hazus_inferer.hazus_inferer: HAZUS does not provide structural type information for West Coast-COM7-high_rise-pre_1950. StructureTypeHazus will be missing in id=[3265, 36556]\n",
      "WARNING:brails.inferers.hazus_inferer.hazus_inferer: HAZUS does not provide structural type information for West Coast-COM7-high_rise-1950_to_1970. StructureTypeHazus will be missing in id=[9480, 25962, 802392, 909181, 1379097, 1433299, 1452904, 1460092, 1808586]\n",
      "WARNING:brails.inferers.hazus_inferer.hazus_inferer: HAZUS does not provide structural type information for West Coast-COM7-high_rise-post_1970. StructureTypeHazus will be missing in id=[2680, 3387, 4035, 4352, 6979, 10312, 910850, 1192145, 1192166, 1427730, 1448611, 1473028, 1560258, 1789430]\n",
      "WARNING:brails.inferers.hazus_inferer.hazus_inferer: HAZUS does not provide structural type information for West Coast-IND4-high_rise-1950_to_1970. StructureTypeHazus will be missing in id=[614125, 614126, 614137]\n",
      "WARNING:brails.inferers.hazus_inferer.hazus_inferer: HAZUS does not provide structural type information for West Coast-IND4-high_rise-post_1970. StructureTypeHazus will be missing in id=[1829938, 1829939, 1829940, 1829942, 1829944, 1829946, 1829948, 1829950, 1829952, 1829953]\n",
      "WARNING:brails.inferers.hazus_inferer.hazus_inferer: HAZUS does not provide structural type information for West Coast-COM9-high_rise-pre_1950. StructureTypeHazus will be missing in id=[1500520]\n",
      "WARNING:brails.inferers.hazus_inferer.hazus_inferer: HAZUS does not provide structural type information for West Coast-EDU1-mid_rise-pre_1950. StructureTypeHazus will be missing in id=[3032, 4392, 10099, 14460, 43502, 43515, 43540, 47854, 47928, 52507, 115631, 116512, 123729, 129989, 129998, 130020, 132671, 132673, 145392, 146588, 148567, 153321, 164997, 165008, 171755, 186135, 189050, 194711, 198154, 213549, 213982, 214518, 249568, 252069, 279078, 617175, 952598, 952638, 1353390, 1819752, 1829028]\n",
      "WARNING:brails.inferers.hazus_inferer.hazus_inferer: HAZUS does not provide structural type information for West Coast-EDU1-mid_rise-1950_to_1970. StructureTypeHazus will be missing in id=[3337, 8633, 8634, 10034, 13893, 32657, 43570, 47744, 55785, 64404, 103122, 287241, 325616, 327216, 343265, 382469, 383190, 383199, 388899, 445172, 586363, 591591, 596151, 596152, 927768, 965209, 969438, 970202, 1297191, 1353393, 1435776, 1443101, 1602103, 1672832, 1672833, 1672835, 1757040, 1757132, 1757133, 1805934, 1805936]\n",
      "WARNING:brails.inferers.hazus_inferer.hazus_inferer: HAZUS does not provide structural type information for West Coast-EDU1-mid_rise-post_1970. StructureTypeHazus will be missing in id=[2955, 4080, 4850, 7262, 7803, 9070, 10895, 32617, 53307, 53308, 54959, 62027, 62266, 62269, 65435, 71474, 71477, 87897, 88598, 88620, 88622, 88623, 88625, 88626, 116487, 117424, 117427, 181376, 258762, 296689, 310268, 326350, 352156, 564924, 564925, 590048, 590210, 907097, 909209, 911326, 911335, 911336, 921562, 921563, 922302, 938141, 952383, 969260, 969437, 976659, 1011163, 1013066, 1027411, 1087124, 1087127, 1087133, 1087150, 1159596, 1159597, 1162571, 1168752, 1171834, 1171908, 1174377, 1217381, 1229765, 1334470, 1334474, 1336180, 1365621, 1375326, 1379257, 1379323, 1383933, 1384050, 1384051, 1384052, 1384054, 1384055, 1384056, 1384060, 1384061, 1384062, 1384063, 1384064, 1384065, 1393734, 1393735, 1393736, 1393738, 1393740, 1393741, 1393742, 1393745, 1393748, 1393752, 1393756, 1393758, 1393762, 1393764, 1459697, 1481394, 1501830, 1531671, 1541572, 1563475, 1565672, 1571613, 1574046, 1594417, 1621938, 1657520, 1673014, 1678231, 1686628, 1688099, 1705480, 1705481, 1709403, 1709407, 1709408, 1757034, 1757036, 1757039, 1757042, 1762737, 1762740, 1762743, 1762744, 1822538, 1857141]\n",
      "WARNING:brails.inferers.hazus_inferer.hazus_inferer: HAZUS does not provide structural type information for West Coast-EDU1-high_rise-pre_1950. StructureTypeHazus will be missing in id=[211362, 733913, 1400934, 1423160, 1808513]\n",
      "WARNING:brails.inferers.hazus_inferer.hazus_inferer: HAZUS does not provide structural type information for West Coast-EDU1-high_rise-1950_to_1970. StructureTypeHazus will be missing in id=[1006, 1965, 3509, 4949, 7078, 12006, 48869, 55773, 71492, 154408, 302316, 302344, 315861, 317173, 321294, 323260, 327221, 343205, 578372, 616134, 911248, 911249, 911253, 911256, 911257, 911259, 911312, 922023, 922590, 923059, 939562, 968933, 969554, 969703, 970216, 970225, 1119729, 1137732, 1142104, 1179481, 1253119, 1256639, 1266728, 1347482, 1404444, 1443109, 1456773, 1498820, 1499665, 1499745, 1499849, 1500022, 1500268, 1500423, 1500751, 1521418, 1557378, 1560597, 1560598, 1625519, 1635909, 1666632, 1672547, 1672551, 1717981, 1822048, 1831620, 1835530, 1848147]\n",
      "WARNING:brails.inferers.hazus_inferer.hazus_inferer: HAZUS does not provide structural type information for West Coast-EDU1-high_rise-post_1970. StructureTypeHazus will be missing in id=[4001, 8091, 9119, 12042, 46905, 54183, 59638, 65472, 87990, 88635, 88641, 88643, 88646, 88647, 88850, 111183, 111184, 112804, 318566, 325282, 325290, 444338, 456046, 456048, 478340, 522454, 583820, 590658, 909438, 922069, 922862, 922863, 922864, 922865, 922866, 922868, 922878, 930094, 930095, 930096, 930097, 930098, 930099, 930100, 930101, 930102, 930103, 937156, 938289, 945175, 960406, 965212, 968636, 972320, 978248, 1049545, 1073964, 1111947, 1115874, 1162559, 1171907, 1196991, 1199931, 1199932, 1217380, 1218602, 1237256, 1242477, 1242478, 1242479, 1242480, 1242481, 1242482, 1242483, 1242484, 1242485, 1242486, 1242487, 1271034, 1301756, 1311603, 1316126, 1343563, 1365584, 1372841, 1377992, 1377998, 1377999, 1378000, 1378001, 1378004, 1378015, 1378019, 1378028, 1378030, 1378043, 1378077, 1379259, 1379271, 1380082, 1380094, 1380107, 1380108, 1380120, 1380122, 1383904, 1385390, 1408205, 1410838, 1422984, 1486499, 1495251, 1495470, 1521962, 1557687, 1563648, 1563651, 1569334, 1577392, 1579044, 1579257, 1579258, 1579259, 1579260, 1579261, 1579262, 1614629, 1616057, 1622173, 1622175, 1623078, 1623080, 1623081, 1626504, 1626514, 1627460, 1654161, 1655369, 1659732, 1664135, 1668335, 1668336, 1668337, 1673010, 1673011, 1737315, 1738293, 1791031, 1800432, 1816461, 1817553, 1817554, 1831990, 1833947]\n",
      "WARNING:brails.inferers.hazus_inferer.hazus_inferer: HAZUS does not provide structural type information for West Coast-IND6-mid_rise-1950_to_1970. StructureTypeHazus will be missing in id=[47208, 50899, 159887, 161230, 193293, 193515, 207294, 259405, 294800, 510539, 517458, 526127, 532982, 655164, 683428, 701650, 843207, 912535, 1027294, 1137517, 1236305, 1388804, 1389466, 1390759, 1391915, 1394474, 1404015, 1406900, 1410407, 1414485, 1420400, 1420533, 1423316, 1426768, 1427396, 1437467, 1454833, 1458318, 1468075, 1468267, 1469079, 1476748, 1498798, 1499780, 1500411, 1515416, 1546847, 1553920, 1554047, 1559751, 1559752, 1657807, 1657815, 1673016, 1757413, 1790776, 1794918, 1802146, 1822330, 1822331, 1831594]\n",
      "WARNING:brails.inferers.hazus_inferer.hazus_inferer: HAZUS does not provide structural type information for West Coast-IND6-mid_rise-post_1970. StructureTypeHazus will be missing in id=[5167, 6679, 8514, 8543, 8569, 13433, 14498, 20196, 36922, 42683, 46995, 47070, 51458, 62277, 80203, 80600, 87727, 87782, 89614, 110824, 111976, 114623, 115886, 117675, 124301, 149023, 189443, 189719, 219956, 247100, 247102, 288517, 296587, 304629, 305940, 307404, 310963, 318740, 319755, 321819, 365794, 521854, 539178, 563690, 587436, 857320, 857423, 909902, 912686, 917836, 922733, 928401, 928402, 932067, 959457, 1029081, 1042843, 1042844, 1069694, 1073968, 1159495, 1159496, 1159651, 1159655, 1320447, 1324451, 1338178, 1387500, 1388020, 1422169, 1432810, 1451574, 1463052, 1478019, 1527457, 1535575, 1541480, 1546944, 1561190, 1574117, 1574224, 1575751, 1591130, 1605621, 1614605, 1660137, 1681468, 1706033, 1707790, 1789726, 1791433, 1800339, 1804032, 1823972, 1826978, 1831830, 1838035, 1842456, 1843546, 1858531, 1858532]\n",
      "WARNING:brails.inferers.hazus_inferer.hazus_inferer: HAZUS does not provide structural type information for West Coast-IND6-high_rise-pre_1950. StructureTypeHazus will be missing in id=[3571, 4156, 34836, 114836, 117130, 161990, 312337, 583203, 583204, 910763, 1354176, 1405127]\n",
      "WARNING:brails.inferers.hazus_inferer.hazus_inferer: HAZUS does not provide structural type information for West Coast-IND6-high_rise-1950_to_1970. StructureTypeHazus will be missing in id=[11393, 41076, 54851, 54852, 54854, 93699, 258320, 294712, 300958, 912362, 1185999, 1271005, 1414483, 1423043, 1460783, 1674688]\n",
      "WARNING:brails.inferers.hazus_inferer.hazus_inferer: HAZUS does not provide structural type information for West Coast-IND6-high_rise-post_1970. StructureTypeHazus will be missing in id=[2828, 2933, 4258, 7480, 8568, 247179, 252735, 252736, 252737, 252738, 252742, 252746, 252749, 252753, 252754, 252756, 252758, 252759, 252762, 286537, 297718, 322397, 328694, 352438, 912646, 928834, 971795, 1028312, 1105570, 1365122, 1367261, 1472037, 1538117, 1540989, 1574229, 1639055, 1766564, 1795391, 1840875, 1866305]\n",
      "WARNING:brails.inferers.hazus_inferer.hazus_inferer: HAZUS does not provide structural type information for West Coast-COM8-high_rise-pre_1950. StructureTypeHazus will be missing in id=[1613, 3245, 3573, 9696, 9900, 10913, 14659, 36824, 41906, 47015, 131634, 132967, 139060, 248560, 293394, 1829195]\n",
      "WARNING:brails.inferers.hazus_inferer.hazus_inferer: HAZUS does not provide structural type information for West Coast-COM8-high_rise-1950_to_1970. StructureTypeHazus will be missing in id=[11315, 42567, 284504, 314404, 922018, 1119851, 1258642, 1394776, 1623893, 1757386]\n",
      "WARNING:brails.inferers.hazus_inferer.hazus_inferer: HAZUS does not provide structural type information for West Coast-COM8-high_rise-post_1970. StructureTypeHazus will be missing in id=[3267, 3635, 3868, 8816, 9015, 10224, 54275, 58086, 58088, 62109, 87988, 113484, 116378, 314453, 543506, 736694, 922851, 922852, 922946, 922947, 931027, 964379, 1094974, 1112110, 1159138, 1159171, 1375522, 1560841, 1669621, 1669627, 1757115, 1824021, 1830521, 1830526, 1855238, 1855239, 1855240, 1855241, 1855251, 1855252, 1855270, 1855272, 1855273, 1855277, 1855278, 1855281, 1855282, 1855283, 1855285, 1855287, 1855288, 1855289, 1855343, 1855344]\n",
      "WARNING:brails.inferers.hazus_inferer.hazus_inferer: HAZUS does not provide structural type information for West Coast-IND5-high_rise-pre_1950. StructureTypeHazus will be missing in id=[3238, 3259, 45477, 48024, 115014, 132979, 135510, 293393, 1776441]\n",
      "WARNING:brails.inferers.hazus_inferer.hazus_inferer: HAZUS does not provide structural type information for West Coast-IND5-high_rise-1950_to_1970. StructureTypeHazus will be missing in id=[299360, 506257, 929077, 1790349]\n",
      "WARNING:brails.inferers.hazus_inferer.hazus_inferer: HAZUS does not provide structural type information for West Coast-IND5-high_rise-post_1970. StructureTypeHazus will be missing in id=[1791, 4179, 4182, 4612, 4815, 21384, 36429, 49630, 288388, 310360, 584203, 985374, 985377]\n",
      "WARNING:brails.inferers.hazus_inferer.hazus_inferer: HAZUS does not provide structural type information for West Coast-COM1-high_rise-pre_1950. StructureTypeHazus will be missing in id=[3569, 11245, 112874, 114863, 114923, 114925, 116989, 117412, 117421, 132483, 147662, 315017, 315101, 583794, 587178, 702017, 1563929]\n",
      "WARNING:brails.inferers.hazus_inferer.hazus_inferer: HAZUS does not provide structural type information for West Coast-COM1-high_rise-1950_to_1970. StructureTypeHazus will be missing in id=[2309, 6258, 7110, 89014, 113681, 288423, 293634, 312371, 421400, 421799, 491515, 506319, 506322, 590475, 735568, 829234, 933165, 962716, 1217768, 1226949, 1472122, 1554667, 1688809]\n",
      "WARNING:brails.inferers.hazus_inferer.hazus_inferer: HAZUS does not provide structural type information for West Coast-COM1-high_rise-post_1970. StructureTypeHazus will be missing in id=[1592, 1593, 2117, 2885, 3229, 9776, 11940, 30892, 47347, 79328, 87993, 123795, 246503, 246522, 250120, 325287, 915364, 934440, 940142, 971449, 985488, 1000453, 1018169, 1352460, 1363826, 1544478, 1598374, 1649724, 1669624, 1705217, 1757103, 1848505, 1848806]\n",
      "WARNING:brails.inferers.hazus_inferer.hazus_inferer: HAZUS does not provide structural type information for West Coast-IND3-high_rise-pre_1950. StructureTypeHazus will be missing in id=[34832, 734784, 735118]\n",
      "WARNING:brails.inferers.hazus_inferer.hazus_inferer: HAZUS does not provide structural type information for West Coast-IND3-high_rise-1950_to_1970. StructureTypeHazus will be missing in id=[1611, 220596, 1551530, 1551589, 1552533, 1552787, 1553056, 1553093, 1553111, 1553454, 1553969, 1554336, 1554420]\n",
      "WARNING:brails.inferers.hazus_inferer.hazus_inferer: HAZUS does not provide structural type information for West Coast-IND3-high_rise-post_1970. StructureTypeHazus will be missing in id=[1591, 302501, 533092, 589087, 971445, 1840380]\n",
      "WARNING:brails.inferers.hazus_inferer.hazus_inferer: HAZUS does not provide structural type information for West Coast-AGR1-mid_rise-1950_to_1970. StructureTypeHazus will be missing in id=[111477, 616324, 1110580, 1442347, 1510693, 1510966, 1512878, 1513025, 1685043]\n",
      "WARNING:brails.inferers.hazus_inferer.hazus_inferer: HAZUS does not provide structural type information for West Coast-AGR1-mid_rise-post_1970. StructureTypeHazus will be missing in id=[299715, 551505, 565150, 571224, 584067, 589086, 909764, 909768, 912612, 928417, 928418, 960204, 1094290, 1159371, 1159421, 1159503, 1159610, 1159669, 1162918, 1163897, 1163902, 1163952, 1163954, 1171844, 1320143, 1342265, 1475067, 1479223, 1480618, 1481863, 1482095, 1494737, 1508101, 1508545, 1509519, 1520658, 1523236, 1566218, 1571614, 1602235, 1623797, 1624670, 1734896, 1734900]\n",
      "WARNING:brails.inferers.hazus_inferer.hazus_inferer: HAZUS does not provide structural type information for West Coast-AGR1-high_rise-1950_to_1970. StructureTypeHazus will be missing in id=[912511, 1499424, 1500058, 1500078]\n",
      "WARNING:brails.inferers.hazus_inferer.hazus_inferer: HAZUS does not provide structural type information for West Coast-AGR1-high_rise-post_1970. StructureTypeHazus will be missing in id=[3184, 58997, 301680, 597279, 597280, 597281, 597282, 912681, 1162912, 1162913, 1540897, 1552320, 1554239, 1554444, 1824753]\n",
      "WARNING:brails.inferers.hazus_inferer.hazus_inferer: HAZUS does not provide structural type information for West Coast-GOV2-mid_rise-pre_1950. StructureTypeHazus will be missing in id=[12306]\n",
      "WARNING:brails.inferers.hazus_inferer.hazus_inferer: HAZUS does not provide structural type information for West Coast-GOV2-high_rise-1950_to_1970. StructureTypeHazus will be missing in id=[90299]\n",
      "WARNING:brails.inferers.hazus_inferer.hazus_inferer: HAZUS does not provide structural type information for West Coast-GOV2-high_rise-post_1970. StructureTypeHazus will be missing in id=[58904, 59029, 587432, 591377, 1033821, 1095711]\n",
      "WARNING:brails.inferers.hazus_inferer.hazus_inferer: HAZUS does not provide structural type information for West Coast-IND2-mid_rise-post_1970. StructureTypeHazus will be missing in id=[2624, 3499, 4010, 4181, 5148, 7542, 8264, 12072, 19004, 28299, 41340, 46370, 87776, 87804, 89769, 111253, 111546, 111653, 134342, 246885, 249816, 299233, 325599, 352430, 480350, 600108, 600158, 662911, 691496, 874729, 910636, 924548, 1121013, 1219182, 1384344, 1463073, 1490162, 1491362, 1533579, 1553214, 1670128, 1706035, 1708212, 1722857, 1733355, 1757397, 1835702, 1835704, 1840908, 1864447]\n",
      "WARNING:brails.inferers.hazus_inferer.hazus_inferer: HAZUS does not provide structural type information for West Coast-IND2-high_rise-pre_1950. StructureTypeHazus will be missing in id=[301, 3092, 119356, 616448, 692496]\n",
      "WARNING:brails.inferers.hazus_inferer.hazus_inferer: HAZUS does not provide structural type information for West Coast-IND2-high_rise-1950_to_1970. StructureTypeHazus will be missing in id=[2037, 8257, 10304, 15966, 18758, 51509, 312316, 615389, 1322097, 1467353]\n",
      "WARNING:brails.inferers.hazus_inferer.hazus_inferer: HAZUS does not provide structural type information for West Coast-IND2-high_rise-post_1970. StructureTypeHazus will be missing in id=[67, 128, 1594, 5160, 7475, 8331, 30900, 40765, 41634, 54171, 54172, 352459, 912871, 928200, 933191, 937806, 937807, 941568, 1104182, 1417055, 1557421, 1661853, 1766169, 1858789]\n",
      "WARNING:brails.inferers.hazus_inferer.hazus_inferer: HAZUS does not provide structural type information for West Coast-IND1-mid_rise-pre_1950. StructureTypeHazus will be missing in id=[3243, 3250, 142935, 145905]\n",
      "WARNING:brails.inferers.hazus_inferer.hazus_inferer: HAZUS does not provide structural type information for West Coast-IND1-mid_rise-post_1970. StructureTypeHazus will be missing in id=[1088, 2883, 3361, 14614, 51229, 56362, 61978, 910307, 974002, 985481, 1287430, 1287822, 1329488, 1534120, 1564119, 1564560, 1859237]\n",
      "WARNING:brails.inferers.hazus_inferer.hazus_inferer: HAZUS does not provide structural type information for West Coast-IND1-high_rise-pre_1950. StructureTypeHazus will be missing in id=[10061, 952329]\n",
      "WARNING:brails.inferers.hazus_inferer.hazus_inferer: HAZUS does not provide structural type information for West Coast-IND1-high_rise-1950_to_1970. StructureTypeHazus will be missing in id=[4405, 4441, 110840, 340883, 1271006, 1553326, 1554510, 1557772, 1558576]\n",
      "WARNING:brails.inferers.hazus_inferer.hazus_inferer: HAZUS does not provide structural type information for West Coast-IND1-high_rise-post_1970. StructureTypeHazus will be missing in id=[4438, 46242, 51455, 298020, 300065, 617226, 911626, 1564317, 1628823, 1628824, 1863174, 1863359, 1863363, 1863370, 1863372]\n",
      "WARNING:brails.inferers.hazus_inferer.hazus_inferer: HAZUS does not provide structural type information for West Coast-RES6-high_rise-1950_to_1970. StructureTypeHazus will be missing in id=[962242, 968392, 968394, 973876, 1625450, 1652269]\n",
      "WARNING:brails.inferers.hazus_inferer.hazus_inferer: HAZUS does not provide structural type information for West Coast-RES6-high_rise-post_1970. StructureTypeHazus will be missing in id=[78876, 368905, 534588, 922879, 1018793, 1050206, 1192199, 1318249, 1525920, 1591006, 1599515, 1647718, 1674735, 1852730]\n",
      "WARNING:brails.inferers.hazus_inferer.hazus_inferer: HAZUS does not provide structural type information for West Coast-COM10-high_rise-pre_1950. StructureTypeHazus will be missing in id=[131629, 132395]\n",
      "WARNING:brails.inferers.hazus_inferer.hazus_inferer: HAZUS does not provide structural type information for West Coast-COM10-high_rise-1950_to_1970. StructureTypeHazus will be missing in id=[294690]\n",
      "WARNING:brails.inferers.hazus_inferer.hazus_inferer: HAZUS does not provide structural type information for West Coast-COM10-high_rise-post_1970. StructureTypeHazus will be missing in id=[34841, 298947, 386390, 584208, 923066, 1368488, 1823885, 1823886]\n",
      "WARNING:brails.inferers.hazus_inferer.hazus_inferer: HAZUS does not provide structural type information for West Coast-COM3-high_rise-pre_1950. StructureTypeHazus will be missing in id=[3560, 3815, 9727, 47014, 50538, 50539, 115018, 131455, 131566, 131573, 131623, 132478, 132657, 194850, 304518, 968910, 1149330, 1400940, 1514979, 1708431]\n",
      "WARNING:brails.inferers.hazus_inferer.hazus_inferer: HAZUS does not provide structural type information for West Coast-COM3-high_rise-1950_to_1970. StructureTypeHazus will be missing in id=[11993, 11994, 42987, 770864, 1338535, 1559164, 1791203]\n",
      "WARNING:brails.inferers.hazus_inferer.hazus_inferer: HAZUS does not provide structural type information for West Coast-COM3-high_rise-post_1970. StructureTypeHazus will be missing in id=[3228, 11239, 34674, 54268, 56162, 58960, 110608, 110995, 246510, 246541, 246602, 325284, 352789, 583818, 583819, 922172, 922850, 1104712, 1120195, 1120373, 1167035, 1167036, 1167037, 1167039, 1167040, 1167041, 1167044, 1167045, 1167050, 1168718, 1168719, 1168720, 1168722, 1168723, 1168726, 1168728, 1168730, 1168731, 1168734, 1168735, 1168736, 1168739, 1168741, 1168748, 1230881, 1260814, 1410610, 1416879, 1476856, 1496325, 1622183, 1840909]\n"
     ]
    },
    {
     "name": "stdout",
     "output_type": "stream",
     "text": [
      "GarageType info not found in the inventory. Making inference using Hazus 6.\n",
      "ConstructionClass info not found in the inventory. Making inference using Hazus 6.\n",
      "Done inference. It took 5.96 mins\n",
      ">> Step3-1 : Checking if BuildingRise (BuildingRise), DesignLevel (DesignLevel) and FoundationType (FoundationType) exist\n",
      ">> Step3-2 : Inferring {'BuildingRise', 'DesignLevel', 'FoundationType'}\n"
     ]
    },
    {
     "name": "stderr",
     "output_type": "stream",
     "text": [
      "WARNING:brails.inferers.hazus_inferer_earthquake.hazus_inferer_earthquake:Skipping hazus inference of DesignLevel. If you still want to perform the inference, run imputer first.\n",
      "WARNING:brails.inferers.hazus_inferer_earthquake.hazus_inferer_earthquake:Unable to create readily runnable inventory due to missing values. Run imputer to fill in missing values.\n"
     ]
    },
    {
     "name": "stdout",
     "output_type": "stream",
     "text": [
      "The feature StructureTypeHazus is missing in many buildings including:  [67, 123, 128, 301, 1006, 1088, 1254, 1384, 1591, 1592]\n",
      ">> Step4 : Changing feature names to what R2D (pelicun) can recognize\n",
      "Done inference. It took 10.18 mins\n"
     ]
    },
    {
     "name": "stderr",
     "output_type": "stream",
     "text": [
      "WARNING:brails.inferers.hazus_inferer_earthquake.hazus_inferer_earthquake:Unable to create inventory that is readily runnable in R2D (pelicun) due to missing DesignLevel\n"
     ]
    }
   ],
   "source": [
    "infer_features_for_hazuseq = importer.get_class(\"HazusInfererEarthquake\")\n",
    "inferer = infer_features_for_hazuseq(input_inventory=imputed_inventory,\n",
    "                                     n_possible_worlds=NO_POSSIBLE_WORLDS,\n",
    "                                     yearBuilt_key=YEAR_BUILT_KEY,\n",
    "                                     occupancyClass_key=OCCUPANCY_CLASS_KEY,\n",
    "                                     numberOfStories_key=NUMBER_OF_STORIES_KEY,\n",
    "                                     income_key=INCOME_KEY,\n",
    "                                     splitLevel_key=SPLIT_LEVEL_KEY,\n",
    "                                     structureType_key=STRUCTURE_TYPE_KEY,\n",
    "                                     replacementCost_key=REPLACEMENT_COST_KEY,\n",
    "                                     planArea_key=PLAN_AREA_KEY,\n",
    "                                     clean_features=False)\n",
    "hazus_inferred_inventory = inferer.infer()"
   ]
  },
  {
   "cell_type": "markdown",
   "id": "ae5a7dd3-86db-462f-a49c-8d7ca1d0fe0a",
   "metadata": {},
   "source": [
    "# Re-run Imputation to Fill Values That Cannot be Inferred by HAZUS Rulesets"
   ]
  },
  {
   "cell_type": "code",
   "execution_count": 12,
   "id": "284d3ea2-c342-48a2-9cfe-ab7caf02ccf1",
   "metadata": {},
   "outputs": [
    {
     "name": "stdout",
     "output_type": "stream",
     "text": [
      "Missing percentages among 1867019 assets\n",
      "lon: 23.24%\n",
      "lat: 23.24%\n",
      "fd_id: 23.24%\n",
      "StructureType: 0.08%\n",
      "BuildingRise: 0.00%\n",
      "Primitive imputation done.\n",
      "Running the main imputation. This may take a while.\n",
      "Enumerating clusters: 20 among 3735\n",
      "Enumerating clusters: 40 among 3735\n",
      "Enumerating clusters: 60 among 3735\n",
      "Enumerating clusters: 80 among 3735\n",
      "Enumerating clusters: 100 among 3735\n",
      "Enumerating clusters: 120 among 3735\n",
      "Enumerating clusters: 140 among 3735\n",
      "Enumerating clusters: 160 among 3735\n",
      "Enumerating clusters: 180 among 3735\n",
      "Enumerating clusters: 200 among 3735\n",
      "Enumerating clusters: 220 among 3735\n",
      "Enumerating clusters: 240 among 3735\n",
      "Enumerating clusters: 260 among 3735\n",
      "Enumerating clusters: 280 among 3735\n",
      "Enumerating clusters: 300 among 3735\n",
      "Enumerating clusters: 320 among 3735\n",
      "Enumerating clusters: 340 among 3735\n",
      "Enumerating clusters: 360 among 3735\n",
      "Enumerating clusters: 380 among 3735\n",
      "Enumerating clusters: 400 among 3735\n",
      "Enumerating clusters: 420 among 3735\n",
      "Enumerating clusters: 440 among 3735\n",
      "Enumerating clusters: 460 among 3735\n",
      "Enumerating clusters: 480 among 3735\n",
      "Enumerating clusters: 500 among 3735\n",
      "Enumerating clusters: 520 among 3735\n",
      "Enumerating clusters: 540 among 3735\n",
      "Enumerating clusters: 560 among 3735\n",
      "Enumerating clusters: 580 among 3735\n",
      "Enumerating clusters: 600 among 3735\n",
      "Enumerating clusters: 620 among 3735\n",
      "Enumerating clusters: 640 among 3735\n",
      "Enumerating clusters: 660 among 3735\n",
      "Enumerating clusters: 680 among 3735\n",
      "Enumerating clusters: 700 among 3735\n",
      "Enumerating clusters: 720 among 3735\n",
      "Enumerating clusters: 740 among 3735\n",
      "Enumerating clusters: 760 among 3735\n",
      "Enumerating clusters: 780 among 3735\n",
      "Enumerating clusters: 800 among 3735\n",
      "Enumerating clusters: 820 among 3735\n",
      "Enumerating clusters: 840 among 3735\n",
      "Enumerating clusters: 860 among 3735\n",
      "Enumerating clusters: 880 among 3735\n",
      "Enumerating clusters: 900 among 3735\n",
      "Enumerating clusters: 920 among 3735\n",
      "Enumerating clusters: 940 among 3735\n",
      "Enumerating clusters: 960 among 3735\n",
      "Enumerating clusters: 980 among 3735\n",
      "Enumerating clusters: 1000 among 3735\n",
      "Enumerating clusters: 1020 among 3735\n",
      "Enumerating clusters: 1040 among 3735\n",
      "Enumerating clusters: 1060 among 3735\n",
      "Enumerating clusters: 1080 among 3735\n",
      "Enumerating clusters: 1100 among 3735\n",
      "Enumerating clusters: 1120 among 3735\n",
      "Enumerating clusters: 1140 among 3735\n",
      "Enumerating clusters: 1160 among 3735\n",
      "Enumerating clusters: 1180 among 3735\n",
      "Enumerating clusters: 1200 among 3735\n",
      "Enumerating clusters: 1220 among 3735\n",
      "Enumerating clusters: 1240 among 3735\n",
      "Enumerating clusters: 1260 among 3735\n",
      "Enumerating clusters: 1280 among 3735\n",
      "Enumerating clusters: 1300 among 3735\n",
      "Enumerating clusters: 1320 among 3735\n",
      "Enumerating clusters: 1340 among 3735\n",
      "Enumerating clusters: 1360 among 3735\n",
      "Enumerating clusters: 1380 among 3735\n",
      "Enumerating clusters: 1400 among 3735\n",
      "Enumerating clusters: 1420 among 3735\n",
      "Enumerating clusters: 1440 among 3735\n",
      "Enumerating clusters: 1460 among 3735\n",
      "Enumerating clusters: 1480 among 3735\n",
      "Enumerating clusters: 1500 among 3735\n",
      "Enumerating clusters: 1520 among 3735\n",
      "Enumerating clusters: 1540 among 3735\n",
      "Enumerating clusters: 1560 among 3735\n",
      "Enumerating clusters: 1580 among 3735\n",
      "Enumerating clusters: 1600 among 3735\n",
      "Enumerating clusters: 1620 among 3735\n",
      "Enumerating clusters: 1640 among 3735\n",
      "Enumerating clusters: 1660 among 3735\n",
      "Enumerating clusters: 1680 among 3735\n",
      "Enumerating clusters: 1700 among 3735\n",
      "Enumerating clusters: 1720 among 3735\n",
      "Enumerating clusters: 1740 among 3735\n",
      "Enumerating clusters: 1760 among 3735\n",
      "Enumerating clusters: 1780 among 3735\n",
      "Enumerating clusters: 1800 among 3735\n",
      "Enumerating clusters: 1820 among 3735\n",
      "Enumerating clusters: 1840 among 3735\n",
      "Enumerating clusters: 1860 among 3735\n",
      "Enumerating clusters: 1880 among 3735\n",
      "Enumerating clusters: 1900 among 3735\n",
      "Enumerating clusters: 1920 among 3735\n",
      "Enumerating clusters: 1940 among 3735\n",
      "Enumerating clusters: 1960 among 3735\n",
      "Enumerating clusters: 1980 among 3735\n",
      "Enumerating clusters: 2000 among 3735\n",
      "Enumerating clusters: 2020 among 3735\n",
      "Enumerating clusters: 2040 among 3735\n",
      "Enumerating clusters: 2060 among 3735\n",
      "Enumerating clusters: 2080 among 3735\n",
      "Enumerating clusters: 2100 among 3735\n",
      "Enumerating clusters: 2120 among 3735\n",
      "Enumerating clusters: 2140 among 3735\n",
      "Enumerating clusters: 2160 among 3735\n",
      "Enumerating clusters: 2180 among 3735\n",
      "Enumerating clusters: 2200 among 3735\n",
      "Enumerating clusters: 2220 among 3735\n",
      "Enumerating clusters: 2240 among 3735\n",
      "Enumerating clusters: 2260 among 3735\n",
      "Enumerating clusters: 2280 among 3735\n",
      "Enumerating clusters: 2300 among 3735\n",
      "Enumerating clusters: 2320 among 3735\n",
      "Enumerating clusters: 2340 among 3735\n",
      "Enumerating clusters: 2360 among 3735\n",
      "Enumerating clusters: 2380 among 3735\n",
      "Enumerating clusters: 2400 among 3735\n",
      "Enumerating clusters: 2420 among 3735\n",
      "Enumerating clusters: 2440 among 3735\n",
      "Enumerating clusters: 2460 among 3735\n",
      "Enumerating clusters: 2480 among 3735\n",
      "Enumerating clusters: 2500 among 3735\n",
      "Enumerating clusters: 2520 among 3735\n",
      "Enumerating clusters: 2540 among 3735\n",
      "Enumerating clusters: 2560 among 3735\n",
      "Enumerating clusters: 2580 among 3735\n",
      "Enumerating clusters: 2600 among 3735\n",
      "Enumerating clusters: 2620 among 3735\n",
      "Enumerating clusters: 2640 among 3735\n",
      "Enumerating clusters: 2660 among 3735\n",
      "Enumerating clusters: 2680 among 3735\n",
      "Enumerating clusters: 2700 among 3735\n",
      "Enumerating clusters: 2720 among 3735\n",
      "Enumerating clusters: 2740 among 3735\n",
      "Enumerating clusters: 2760 among 3735\n",
      "Enumerating clusters: 2780 among 3735\n",
      "Enumerating clusters: 2800 among 3735\n",
      "Enumerating clusters: 2820 among 3735\n",
      "Enumerating clusters: 2840 among 3735\n",
      "Enumerating clusters: 2860 among 3735\n",
      "Enumerating clusters: 2880 among 3735\n",
      "Enumerating clusters: 2900 among 3735\n",
      "Enumerating clusters: 2920 among 3735\n",
      "Enumerating clusters: 2940 among 3735\n",
      "Enumerating clusters: 2960 among 3735\n",
      "Enumerating clusters: 2980 among 3735\n",
      "Enumerating clusters: 3000 among 3735\n",
      "Enumerating clusters: 3020 among 3735\n",
      "Enumerating clusters: 3040 among 3735\n",
      "Enumerating clusters: 3060 among 3735\n",
      "Enumerating clusters: 3080 among 3735\n",
      "Enumerating clusters: 3100 among 3735\n",
      "Enumerating clusters: 3120 among 3735\n",
      "Enumerating clusters: 3140 among 3735\n",
      "Enumerating clusters: 3160 among 3735\n",
      "Enumerating clusters: 3180 among 3735\n",
      "Enumerating clusters: 3200 among 3735\n",
      "Enumerating clusters: 3220 among 3735\n",
      "Enumerating clusters: 3240 among 3735\n",
      "Enumerating clusters: 3260 among 3735\n",
      "Enumerating clusters: 3280 among 3735\n",
      "Enumerating clusters: 3300 among 3735\n",
      "Enumerating clusters: 3320 among 3735\n",
      "Enumerating clusters: 3340 among 3735\n",
      "Enumerating clusters: 3360 among 3735\n",
      "Enumerating clusters: 3380 among 3735\n",
      "Enumerating clusters: 3400 among 3735\n",
      "Enumerating clusters: 3420 among 3735\n",
      "Enumerating clusters: 3440 among 3735\n",
      "Enumerating clusters: 3460 among 3735\n",
      "Enumerating clusters: 3480 among 3735\n",
      "Enumerating clusters: 3500 among 3735\n",
      "Enumerating clusters: 3520 among 3735\n",
      "Enumerating clusters: 3540 among 3735\n",
      "Enumerating clusters: 3560 among 3735\n",
      "Enumerating clusters: 3580 among 3735\n",
      "Enumerating clusters: 3600 among 3735\n",
      "Enumerating clusters: 3620 among 3735\n",
      "Enumerating clusters: 3640 among 3735\n",
      "Enumerating clusters: 3660 among 3735\n",
      "Enumerating clusters: 3680 among 3735\n",
      "Enumerating clusters: 3700 among 3735\n",
      "Enumerating clusters: 3720 among 3735\n",
      "Done imputation. It took 1.29 mins\n"
     ]
    }
   ],
   "source": [
    "imputer = knn_imputer_class(hazus_inferred_inventory, \n",
    "                            n_possible_worlds=NO_POSSIBLE_WORLDS)\n",
    "hazus_inventory_final = imputer.impute()"
   ]
  },
  {
   "cell_type": "markdown",
   "id": "4d905ac6-9b4f-4df6-ae44-0a926cb01aaf",
   "metadata": {},
   "source": [
    "# Change Attribute Names To Make Them Compatible with R2D"
   ]
  },
  {
   "cell_type": "code",
   "execution_count": 13,
   "id": "25f188cb-8e76-452f-adab-5ba98c2acf31",
   "metadata": {},
   "outputs": [],
   "source": [
    "hazus_inventory_final.change_feature_names({'erabuilt': 'YearBuilt',\n",
    "                                            'lat': 'Latitude',\n",
    "                                            'lon': 'Longitude',\n",
    "                                            'fpAreas': 'PlanArea',\n",
    "                                            'numstories': 'NumberOfStories'})\n",
    "counter = 0\n",
    "for _, val in hazus_inventory_final.inventory.items():\n",
    "    val.add_features({\"id\": counter})\n",
    "    counter += 1"
   ]
  },
  {
   "cell_type": "markdown",
   "id": "da2d07bb-b889-4585-ab51-b270662ee89d",
   "metadata": {},
   "source": [
    "# Write the Created Inventory in a GeoJSON File"
   ]
  },
  {
   "cell_type": "code",
   "execution_count": 14,
   "id": "ae677db6-5c02-4a1c-985a-c198835289c6",
   "metadata": {},
   "outputs": [],
   "source": [
    "_ = hazus_inventory_final.write_to_geojson(\n",
    "    output_file=INVENTORY_OUTPUT)"
   ]
  }
 ],
 "metadata": {
  "kernelspec": {
   "display_name": "Python 3 (ipykernel)",
   "language": "python",
   "name": "python3"
  },
  "language_info": {
   "codemirror_mode": {
    "name": "ipython",
    "version": 3
   },
   "file_extension": ".py",
   "mimetype": "text/x-python",
   "name": "python",
   "nbconvert_exporter": "python",
   "pygments_lexer": "ipython3",
   "version": "3.11.10"
  }
 },
 "nbformat": 4,
 "nbformat_minor": 5
}
