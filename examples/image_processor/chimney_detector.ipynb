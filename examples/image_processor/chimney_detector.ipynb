{
 "cells": [
  {
   "cell_type": "markdown",
   "metadata": {
    "colab_type": "text",
    "id": "view-in-github"
   },
   "source": [
    "<span style=\"display: inline-block; margin-right: 10px; vertical-align: middle; border: 1px solid #F8F8F8; border-radius: 8px; padding: 5px; background-color: #F8F8F8;\">\n",
    "    <a href=\"https://www.designsafe-ci.org/workspace/jupyter-lab-hpc-cuda-ds?appVersion=1.1.1\" target=\"_parent\" style=\"text-decoration: none;\">\n",
    "        <span style=\"font-family: Helvetica, sans-serif; font-size: 13px; color: #565656; margin-right: 5px; vertical-align: middle; font-weight: 600;\">Open in</span>\n",
    "        <img src=\"https://www.designsafe-ci.org/media/filer_public/2d/d3/2dd37fbf-289e-49cf-9c1a-879c864c4e17/nsf_nheri-ds.png\" alt=\"Open in DesignSafe\" style=\"width: 100px; height: auto; vertical-align: middle;\">\n",
    "    </a>\n",
    "</span>\n",
    "\n",
    "<span style=\"display: inline-block; margin-right: 10px; vertical-align: middle;\">\n",
    "    <a href=\"https://colab.research.google.com/github/NHERI-SimCenter/BrailsPlusPlus/blob/master/examples/image_processor/chimney_detector.ipynb\" target=\"_parent\">\n",
    "        <img src=\"https://colab.research.google.com/assets/colab-badge.svg\" alt=\"Open In Colab\" style=\"width: 130px; height: auto; vertical-align: middle;\"/>\n",
    "    </a>\n",
    "</span>\n",
    "\n",
    "<span style=\"display: inline-block; vertical-align: middle; margin-top: 6px;\">\n",
    "    <a target=\"_blank\" href=\"https://lightning.ai/new?repo_url=https%3A//github.com/NHERI-SimCenter/BrailsPlusPlus/blob/master/examples/image_processor/chimney_detector.ipynb\">\n",
    "        <img src=\"https://pl-bolts-doc-images.s3.us-east-2.amazonaws.com/app-2/studio-badge.svg\" alt=\"Open in Studio\" style=\"width: 120px; height: auto; vertical-align: middle;\"/>\n",
    "    </a>\n",
    "</span>"
   ]
  },
  {
   "cell_type": "markdown",
   "metadata": {
    "id": "aFu-PB0j9_-s"
   },
   "source": [
    "## **Install BRAILS++**\n",
    "BRAILS++ is not yet available on PyPi. The following line installs the latest version from the GitHub repository using `pip`."
   ]
  },
  {
   "cell_type": "code",
   "execution_count": 1,
   "metadata": {
    "colab": {
     "base_uri": "https://localhost:8080/"
    },
    "id": "KkujirTi9oZu",
    "outputId": "56ef57fa-739d-4cea-f16f-06768c53133a"
   },
   "outputs": [
    {
     "name": "stdout",
     "output_type": "stream",
     "text": [
      "Collecting git+https://github.com/NHERI-SimCenter/BrailsPlusPlus\n",
      "  Cloning https://github.com/NHERI-SimCenter/BrailsPlusPlus to /tmp/pip-req-build-p2vgpyab\n",
      "  Running command git clone --filter=blob:none --quiet https://github.com/NHERI-SimCenter/BrailsPlusPlus /tmp/pip-req-build-p2vgpyab\n",
      "  Resolved https://github.com/NHERI-SimCenter/BrailsPlusPlus to commit dd8347005551cac51fef125d9d99429e8c2abebd\n",
      "  Preparing metadata (setup.py) ... \u001b[?25ldone\n",
      "\u001b[?25hRequirement already satisfied: addict in /home/bacetiner/anaconda3/envs/brails_plus/lib/python3.11/site-packages (from brails==4.0) (2.4.0)\n",
      "Requirement already satisfied: Cython in /home/bacetiner/anaconda3/envs/brails_plus/lib/python3.11/site-packages (from brails==4.0) (3.0.11)\n",
      "Requirement already satisfied: ftfy in /home/bacetiner/anaconda3/envs/brails_plus/lib/python3.11/site-packages (from brails==4.0) (6.2.3)\n",
      "Requirement already satisfied: matplotlib in /home/bacetiner/anaconda3/envs/brails_plus/lib/python3.11/site-packages (from brails==4.0) (3.9.2)\n",
      "Requirement already satisfied: pillow in /home/bacetiner/anaconda3/envs/brails_plus/lib/python3.11/site-packages (from brails==4.0) (10.4.0)\n",
      "Requirement already satisfied: plotly in /home/bacetiner/anaconda3/envs/brails_plus/lib/python3.11/site-packages (from brails==4.0) (5.24.1)\n",
      "Requirement already satisfied: pycocotools in /home/bacetiner/anaconda3/envs/brails_plus/lib/python3.11/site-packages (from brails==4.0) (2.0.8)\n",
      "Requirement already satisfied: requests in /home/bacetiner/anaconda3/envs/brails_plus/lib/python3.11/site-packages (from brails==4.0) (2.32.3)\n",
      "Requirement already satisfied: seaborn in /home/bacetiner/anaconda3/envs/brails_plus/lib/python3.11/site-packages (from brails==4.0) (0.13.2)\n",
      "Requirement already satisfied: shapely in /home/bacetiner/anaconda3/envs/brails_plus/lib/python3.11/site-packages (from brails==4.0) (2.0.6)\n",
      "Requirement already satisfied: supervision in /home/bacetiner/anaconda3/envs/brails_plus/lib/python3.11/site-packages (from brails==4.0) (0.24.0)\n",
      "Requirement already satisfied: timm in /home/bacetiner/anaconda3/envs/brails_plus/lib/python3.11/site-packages (from brails==4.0) (1.0.9)\n",
      "Requirement already satisfied: torch in /home/bacetiner/anaconda3/envs/brails_plus/lib/python3.11/site-packages (from brails==4.0) (2.4.1)\n",
      "Requirement already satisfied: torchvision in /home/bacetiner/anaconda3/envs/brails_plus/lib/python3.11/site-packages (from brails==4.0) (0.19.1)\n",
      "Requirement already satisfied: transformers in /home/bacetiner/anaconda3/envs/brails_plus/lib/python3.11/site-packages (from brails==4.0) (4.45.2)\n",
      "Requirement already satisfied: typing in /home/bacetiner/anaconda3/envs/brails_plus/lib/python3.11/site-packages (from brails==4.0) (3.7.4.3)\n",
      "Requirement already satisfied: wget in /home/bacetiner/anaconda3/envs/brails_plus/lib/python3.11/site-packages (from brails==4.0) (3.2)\n",
      "Requirement already satisfied: yapf in /home/bacetiner/anaconda3/envs/brails_plus/lib/python3.11/site-packages (from brails==4.0) (0.40.2)\n",
      "Requirement already satisfied: webcolors in /home/bacetiner/anaconda3/envs/brails_plus/lib/python3.11/site-packages (from brails==4.0) (24.8.0)\n",
      "Requirement already satisfied: opencv-python in /home/bacetiner/anaconda3/envs/brails_plus/lib/python3.11/site-packages (from brails==4.0) (4.10.0.84)\n",
      "Requirement already satisfied: pandas in /home/bacetiner/anaconda3/envs/brails_plus/lib/python3.11/site-packages (from brails==4.0) (2.2.3)\n",
      "Collecting wcwidth<0.3.0,>=0.2.12 (from ftfy->brails==4.0)\n",
      "  Using cached wcwidth-0.2.13-py2.py3-none-any.whl.metadata (14 kB)\n",
      "Requirement already satisfied: contourpy>=1.0.1 in /home/bacetiner/anaconda3/envs/brails_plus/lib/python3.11/site-packages (from matplotlib->brails==4.0) (1.3.0)\n",
      "Requirement already satisfied: cycler>=0.10 in /home/bacetiner/anaconda3/envs/brails_plus/lib/python3.11/site-packages (from matplotlib->brails==4.0) (0.12.1)\n",
      "Requirement already satisfied: fonttools>=4.22.0 in /home/bacetiner/anaconda3/envs/brails_plus/lib/python3.11/site-packages (from matplotlib->brails==4.0) (4.54.1)\n",
      "Requirement already satisfied: kiwisolver>=1.3.1 in /home/bacetiner/anaconda3/envs/brails_plus/lib/python3.11/site-packages (from matplotlib->brails==4.0) (1.4.7)\n",
      "Requirement already satisfied: numpy>=1.23 in /home/bacetiner/anaconda3/envs/brails_plus/lib/python3.11/site-packages (from matplotlib->brails==4.0) (2.1.2)\n",
      "Requirement already satisfied: packaging>=20.0 in /home/bacetiner/anaconda3/envs/brails_plus/lib/python3.11/site-packages (from matplotlib->brails==4.0) (24.1)\n",
      "Requirement already satisfied: pyparsing>=2.3.1 in /home/bacetiner/anaconda3/envs/brails_plus/lib/python3.11/site-packages (from matplotlib->brails==4.0) (3.1.4)\n",
      "Requirement already satisfied: python-dateutil>=2.7 in /home/bacetiner/anaconda3/envs/brails_plus/lib/python3.11/site-packages (from matplotlib->brails==4.0) (2.9.0.post0)\n",
      "Requirement already satisfied: pytz>=2020.1 in /home/bacetiner/anaconda3/envs/brails_plus/lib/python3.11/site-packages (from pandas->brails==4.0) (2024.2)\n",
      "Requirement already satisfied: tzdata>=2022.7 in /home/bacetiner/anaconda3/envs/brails_plus/lib/python3.11/site-packages (from pandas->brails==4.0) (2024.2)\n",
      "Requirement already satisfied: tenacity>=6.2.0 in /home/bacetiner/anaconda3/envs/brails_plus/lib/python3.11/site-packages (from plotly->brails==4.0) (9.0.0)\n",
      "Requirement already satisfied: charset-normalizer<4,>=2 in /home/bacetiner/anaconda3/envs/brails_plus/lib/python3.11/site-packages (from requests->brails==4.0) (3.3.2)\n",
      "Requirement already satisfied: idna<4,>=2.5 in /home/bacetiner/anaconda3/envs/brails_plus/lib/python3.11/site-packages (from requests->brails==4.0) (3.7)\n",
      "Requirement already satisfied: urllib3<3,>=1.21.1 in /home/bacetiner/anaconda3/envs/brails_plus/lib/python3.11/site-packages (from requests->brails==4.0) (2.2.3)\n",
      "Requirement already satisfied: certifi>=2017.4.17 in /home/bacetiner/anaconda3/envs/brails_plus/lib/python3.11/site-packages (from requests->brails==4.0) (2024.8.30)\n",
      "Requirement already satisfied: defusedxml<0.8.0,>=0.7.1 in /home/bacetiner/anaconda3/envs/brails_plus/lib/python3.11/site-packages (from supervision->brails==4.0) (0.7.1)\n",
      "Requirement already satisfied: pyyaml>=5.3 in /home/bacetiner/anaconda3/envs/brails_plus/lib/python3.11/site-packages (from supervision->brails==4.0) (6.0.2)\n",
      "Requirement already satisfied: scipy<2.0.0,>=1.10.0 in /home/bacetiner/anaconda3/envs/brails_plus/lib/python3.11/site-packages (from supervision->brails==4.0) (1.14.1)\n",
      "Requirement already satisfied: huggingface_hub in /home/bacetiner/anaconda3/envs/brails_plus/lib/python3.11/site-packages (from timm->brails==4.0) (0.25.2)\n",
      "Requirement already satisfied: safetensors in /home/bacetiner/anaconda3/envs/brails_plus/lib/python3.11/site-packages (from timm->brails==4.0) (0.4.5)\n",
      "Requirement already satisfied: filelock in /home/bacetiner/anaconda3/envs/brails_plus/lib/python3.11/site-packages (from torch->brails==4.0) (3.16.1)\n",
      "Requirement already satisfied: typing-extensions>=4.8.0 in /home/bacetiner/anaconda3/envs/brails_plus/lib/python3.11/site-packages (from torch->brails==4.0) (4.12.2)\n",
      "Requirement already satisfied: sympy in /home/bacetiner/anaconda3/envs/brails_plus/lib/python3.11/site-packages (from torch->brails==4.0) (1.13.3)\n",
      "Requirement already satisfied: networkx in /home/bacetiner/anaconda3/envs/brails_plus/lib/python3.11/site-packages (from torch->brails==4.0) (3.3)\n",
      "Requirement already satisfied: jinja2 in /home/bacetiner/anaconda3/envs/brails_plus/lib/python3.11/site-packages (from torch->brails==4.0) (3.1.4)\n",
      "Requirement already satisfied: fsspec in /home/bacetiner/anaconda3/envs/brails_plus/lib/python3.11/site-packages (from torch->brails==4.0) (2024.9.0)\n",
      "Requirement already satisfied: nvidia-cuda-nvrtc-cu12==12.1.105 in /home/bacetiner/anaconda3/envs/brails_plus/lib/python3.11/site-packages (from torch->brails==4.0) (12.1.105)\n",
      "Requirement already satisfied: nvidia-cuda-runtime-cu12==12.1.105 in /home/bacetiner/anaconda3/envs/brails_plus/lib/python3.11/site-packages (from torch->brails==4.0) (12.1.105)\n",
      "Requirement already satisfied: nvidia-cuda-cupti-cu12==12.1.105 in /home/bacetiner/anaconda3/envs/brails_plus/lib/python3.11/site-packages (from torch->brails==4.0) (12.1.105)\n",
      "Requirement already satisfied: nvidia-cudnn-cu12==9.1.0.70 in /home/bacetiner/anaconda3/envs/brails_plus/lib/python3.11/site-packages (from torch->brails==4.0) (9.1.0.70)\n",
      "Requirement already satisfied: nvidia-cublas-cu12==12.1.3.1 in /home/bacetiner/anaconda3/envs/brails_plus/lib/python3.11/site-packages (from torch->brails==4.0) (12.1.3.1)\n",
      "Requirement already satisfied: nvidia-cufft-cu12==11.0.2.54 in /home/bacetiner/anaconda3/envs/brails_plus/lib/python3.11/site-packages (from torch->brails==4.0) (11.0.2.54)\n",
      "Requirement already satisfied: nvidia-curand-cu12==10.3.2.106 in /home/bacetiner/anaconda3/envs/brails_plus/lib/python3.11/site-packages (from torch->brails==4.0) (10.3.2.106)\n",
      "Requirement already satisfied: nvidia-cusolver-cu12==11.4.5.107 in /home/bacetiner/anaconda3/envs/brails_plus/lib/python3.11/site-packages (from torch->brails==4.0) (11.4.5.107)\n",
      "Requirement already satisfied: nvidia-cusparse-cu12==12.1.0.106 in /home/bacetiner/anaconda3/envs/brails_plus/lib/python3.11/site-packages (from torch->brails==4.0) (12.1.0.106)\n",
      "Requirement already satisfied: nvidia-nccl-cu12==2.20.5 in /home/bacetiner/anaconda3/envs/brails_plus/lib/python3.11/site-packages (from torch->brails==4.0) (2.20.5)\n",
      "Requirement already satisfied: nvidia-nvtx-cu12==12.1.105 in /home/bacetiner/anaconda3/envs/brails_plus/lib/python3.11/site-packages (from torch->brails==4.0) (12.1.105)\n",
      "Requirement already satisfied: triton==3.0.0 in /home/bacetiner/anaconda3/envs/brails_plus/lib/python3.11/site-packages (from torch->brails==4.0) (3.0.0)\n",
      "Requirement already satisfied: nvidia-nvjitlink-cu12 in /home/bacetiner/anaconda3/envs/brails_plus/lib/python3.11/site-packages (from nvidia-cusolver-cu12==11.4.5.107->torch->brails==4.0) (12.6.77)\n",
      "Requirement already satisfied: regex!=2019.12.17 in /home/bacetiner/anaconda3/envs/brails_plus/lib/python3.11/site-packages (from transformers->brails==4.0) (2024.9.11)\n",
      "Requirement already satisfied: tokenizers<0.21,>=0.20 in /home/bacetiner/anaconda3/envs/brails_plus/lib/python3.11/site-packages (from transformers->brails==4.0) (0.20.1)\n",
      "Requirement already satisfied: tqdm>=4.27 in /home/bacetiner/anaconda3/envs/brails_plus/lib/python3.11/site-packages (from transformers->brails==4.0) (4.66.5)\n",
      "Requirement already satisfied: importlib-metadata>=6.6.0 in /home/bacetiner/anaconda3/envs/brails_plus/lib/python3.11/site-packages (from yapf->brails==4.0) (7.0.1)\n",
      "Requirement already satisfied: platformdirs>=3.5.1 in /home/bacetiner/anaconda3/envs/brails_plus/lib/python3.11/site-packages (from yapf->brails==4.0) (4.3.6)\n",
      "Requirement already satisfied: tomli>=2.0.1 in /home/bacetiner/anaconda3/envs/brails_plus/lib/python3.11/site-packages (from yapf->brails==4.0) (2.0.1)\n",
      "Requirement already satisfied: zipp>=0.5 in /home/bacetiner/anaconda3/envs/brails_plus/lib/python3.11/site-packages (from importlib-metadata>=6.6.0->yapf->brails==4.0) (3.20.2)\n",
      "Requirement already satisfied: six>=1.5 in /home/bacetiner/anaconda3/envs/brails_plus/lib/python3.11/site-packages (from python-dateutil>=2.7->matplotlib->brails==4.0) (1.16.0)\n",
      "Requirement already satisfied: MarkupSafe>=2.0 in /home/bacetiner/anaconda3/envs/brails_plus/lib/python3.11/site-packages (from jinja2->torch->brails==4.0) (3.0.1)\n",
      "Requirement already satisfied: mpmath<1.4,>=1.1.0 in /home/bacetiner/anaconda3/envs/brails_plus/lib/python3.11/site-packages (from sympy->torch->brails==4.0) (1.3.0)\n",
      "Using cached wcwidth-0.2.13-py2.py3-none-any.whl (34 kB)\n",
      "Installing collected packages: wcwidth\n",
      "  Attempting uninstall: wcwidth\n",
      "    Found existing installation: wcwidth 0.2.5\n",
      "    Uninstalling wcwidth-0.2.5:\n",
      "      Successfully uninstalled wcwidth-0.2.5\n",
      "Successfully installed wcwidth-0.2.13\n",
      "Note: you may need to restart the kernel to use updated packages.\n"
     ]
    }
   ],
   "source": [
    "!pip install git+https://github.com/NHERI-SimCenter/BrailsPlusPlus"
   ]
  },
  {
   "cell_type": "markdown",
   "metadata": {
    "id": "sqCVhpcm-ePA"
   },
   "source": [
    "## **Import ImageSet and Importer Methods of BRAILS++**\n",
    "BRAILS++ offers various Artificial Intelligence-powered modules for predicting building and infrastructure attributes from images, such as the `ChimneyDetector` demonstrated in this example.\n",
    "\n",
    "The `Importer` class provides the main methods to load these modules. To gather the images needed for attribute prediction, users can use the ImageSet class or BRAILS++ scrapers, which facilitate automated asset geometry and image retrieval. This example illustrates both methods for sourcing imagery for use with the `ChimneyDetector` module."
   ]
  },
  {
   "cell_type": "code",
   "execution_count": 2,
   "metadata": {
    "id": "hKRsVFR4-M1b"
   },
   "outputs": [],
   "source": [
    "from brails import Importer\n",
    "from brails.types.image_set import ImageSet"
   ]
  },
  {
   "cell_type": "markdown",
   "metadata": {},
   "source": [
    "## Define Google API Key\n",
    "You need a Google API Key with Street View Static API enabled to download the Google Street View imagery required for this example. Please follow this [link](https://support.google.com/googleapi/answer/6158862?hl=en) for instructions on setting up a Google API key."
   ]
  },
  {
   "cell_type": "code",
   "execution_count": 6,
   "metadata": {},
   "outputs": [],
   "source": [
    "API_KEY = 'YOUR-API-KEY-HERE'"
   ]
  },
  {
   "cell_type": "markdown",
   "metadata": {
    "id": "WWtc71tt-rbt"
   },
   "source": [
    "## **Load Street-Level Imagery: (Option 1) Download Imagery by Specifying the Region Name**\n",
    "The `ChimneyDetector` class is created to identify the existence of chimneys in buildings from street-level imagery. In this option, BRAILS++ retrieves the required imagery by following the steps below.\n",
    "1. <strong>Call the `RegionBoundary` class with the necessary details to specify the region of interest.</strong> In this example, street-level imagery of buildings in Atlantic County, NJ, are downloaded. Therefore, the required information includes the `type` of information provided and the `data` itself, which are the `locationName` and `Atlantic County, NJ`.\n",
    "\n",
    "2. <strong>Download the footprint inventory for the `RegionBoundary` saved in `region_boundary_object` by downloading the OpenStreetMap footprint data through the `OSM_FootprintScraper`.</strong> The only information required to initialize `OSM_FootprintScraper` is the desired output unit for `length`, which, in this case, is `ft`. The output of `OSM_FootprintScraper` is an `AssetInventory` saved in `atlantic_fp`.\n",
    "\n",
    "3. <strong>Get a randomly selected `100` building subset of the footprint inventory obtained using `OSM_FootprintScraper`. </strong> This subset is obtained using the `get_random_sample` method of an `AssetInventory` object and is stored in `atlantic_fp_subset`. For this example, the random seed is set to `40` for reproducibility of the results.\n",
    "\n",
    "4. <strong>Get the street-level imagery for the selected subset using `get_images` method of `GoogleStreet` module.</strong> `get_images` requires two inputs 1) AssetInventory for which the images will be retrieved (in this example, `atlantic_fp_subset`) and 2) the path to the folder where the retrieved images will be saved, which in this case is `tmp/street/`.\n"
   ]
  },
  {
   "cell_type": "code",
   "execution_count": 8,
   "metadata": {
    "id": "nAYEbgmj6GxA"
   },
   "outputs": [
    {
     "name": "stdout",
     "output_type": "stream",
     "text": [
      "\n",
      "Searching for Atlantic County, NJ...\n",
      "Found Atlantic County, New Jersey, United States\n",
      "\n",
      "Found a total of 18900 building footprints in Atlantic County\n"
     ]
    },
    {
     "name": "stderr",
     "output_type": "stream",
     "text": [
      "INFO:brails.scrapers.google_streetview.google_streetview:\n",
      "Images will be saved to: /home/bacetiner/Documents/BrailsPlusPlus/examples/image_processor/tmp/street\n",
      "\n",
      "Obtaining street-level imagery:   0%|                                                                                                                                 | 0/100 [00:00<?, ?it/s]INFO:brails.scrapers.google_streetview.google_streetview:No street-level imagery found for the building located at 39.4896, -74.4676\n",
      "Obtaining street-level imagery:   1%|█▏                                                                                                                       | 1/100 [00:00<00:19,  5.05it/s]INFO:brails.scrapers.google_streetview.google_streetview:No street-level imagery found for the building located at 39.4948, -74.4877\n",
      "INFO:brails.scrapers.google_streetview.google_streetview:No street-level imagery found for the building located at 39.3586, -74.6355\n",
      "INFO:brails.scrapers.google_streetview.google_streetview:No street-level imagery found for the building located at 39.4565, -74.6337\n",
      "INFO:brails.scrapers.google_streetview.google_streetview:No street-level imagery found for the building located at 39.4438, -74.6872\n",
      "INFO:brails.scrapers.google_streetview.google_streetview:No street-level imagery found for the building located at 39.4233, -74.7015\n",
      "INFO:brails.scrapers.google_streetview.google_streetview:No street-level imagery found for the building located at 39.4925, -74.4594\n",
      "INFO:brails.scrapers.google_streetview.google_streetview:No street-level imagery found for the building located at 39.6420, -74.8188\n",
      "Obtaining street-level imagery:  11%|█████████████▏                                                                                                          | 11/100 [00:01<00:17,  4.96it/s]INFO:brails.scrapers.google_streetview.google_streetview:No street-level imagery found for the building located at 39.3078, -74.5969\n",
      "Obtaining street-level imagery:  20%|████████████████████████                                                                                                | 20/100 [00:02<00:06, 11.48it/s]INFO:brails.scrapers.google_streetview.google_streetview:No street-level imagery found for the building located at 39.4917, -74.4565\n",
      "Obtaining street-level imagery:  23%|███████████████████████████▌                                                                                            | 23/100 [00:02<00:05, 12.89it/s]INFO:brails.scrapers.google_streetview.google_streetview:No street-level imagery found for the building located at 39.4854, -74.4736\n",
      "Obtaining street-level imagery:  29%|██████████████████████████████████▊                                                                                     | 29/100 [00:02<00:04, 17.47it/s]INFO:brails.scrapers.google_streetview.google_streetview:No street-level imagery found for the building located at 39.4134, -74.5125\n",
      "Obtaining street-level imagery:  37%|████████████████████████████████████████████▍                                                                           | 37/100 [00:04<00:09,  6.87it/s]INFO:brails.scrapers.google_streetview.google_streetview:No street-level imagery found for the building located at 39.4973, -74.4989\n",
      "Obtaining street-level imagery:  41%|█████████████████████████████████████████████████▏                                                                      | 41/100 [00:04<00:06,  9.60it/s]INFO:brails.scrapers.google_streetview.google_streetview:No street-level imagery found for the building located at 39.4922, -74.4617\n",
      "INFO:brails.scrapers.google_streetview.google_streetview:No street-level imagery found for the building located at 39.4976, -74.4970\n",
      "Obtaining street-level imagery:  46%|███████████████████████████████████████████████████████▏                                                                | 46/100 [00:04<00:03, 14.31it/s]INFO:brails.scrapers.google_streetview.google_streetview:No street-level imagery found for the building located at 39.4396, -74.6231\n",
      "INFO:brails.scrapers.google_streetview.google_streetview:No street-level imagery found for the building located at 39.4489, -74.6932\n",
      "Obtaining street-level imagery:  53%|███████████████████████████████████████████████████████████████▌                                                        | 53/100 [00:04<00:02, 21.90it/s]INFO:brails.scrapers.google_streetview.google_streetview:No street-level imagery found for the building located at 39.4786, -74.4795\n",
      "INFO:brails.scrapers.google_streetview.google_streetview:No street-level imagery found for the building located at 39.4127, -74.5454\n",
      "Obtaining street-level imagery:  57%|████████████████████████████████████████████████████████████████████▍                                                   | 57/100 [00:04<00:02, 21.16it/s]INFO:brails.scrapers.google_streetview.google_streetview:No street-level imagery found for the building located at 39.4280, -74.5845\n",
      "INFO:brails.scrapers.google_streetview.google_streetview:No street-level imagery found for the building located at 39.4908, -74.4678\n",
      "Obtaining street-level imagery:  61%|█████████████████████████████████████████████████████████████████████████▏                                              | 61/100 [00:05<00:02, 17.91it/s]INFO:brails.scrapers.google_streetview.google_streetview:No street-level imagery found for the building located at 39.4008, -74.7117\n",
      "Obtaining street-level imagery:  76%|███████████████████████████████████████████████████████████████████████████████████████████▏                            | 76/100 [00:06<00:01, 15.04it/s]INFO:brails.scrapers.google_streetview.google_streetview:No street-level imagery found for the building located at 39.4496, -74.7374\n",
      "Obtaining street-level imagery:  79%|██████████████████████████████████████████████████████████████████████████████████████████████▊                         | 79/100 [00:06<00:01, 17.32it/s]INFO:brails.scrapers.google_streetview.google_streetview:No street-level imagery found for the building located at 39.4867, -74.4754\n",
      "Obtaining street-level imagery: 100%|███████████████████████████████████████████████████████████████████████████████████████████████████████████████████████| 100/100 [00:08<00:00, 11.13it/s]\n"
     ]
    }
   ],
   "source": [
    "# Select a region and create its RegionBoundary:\n",
    "importer = Importer()\n",
    "\n",
    "region_data = {\"type\": \"locationName\",\n",
    "               \"data\": \"Atlantic County, NJ\"}\n",
    "region_boundary_class = importer.get_class(\"RegionBoundary\")\n",
    "region_boundary_object = region_boundary_class(region_data)\n",
    "\n",
    "osm_fp_class = importer.get_class(\"OSM_FootprintScraper\")\n",
    "osm_fp_data = {\"length\": \"ft\"}\n",
    "footprint_scraper = osm_fp_class(osm_fp_data)\n",
    "atlantic_fp = footprint_scraper.get_footprints(region_boundary_object)\n",
    "\n",
    "# Subsample from the extracted assets to keep the image downloading step quick.\n",
    "# Here, we are randomly sampling 100 buildings using a random seed value of 40:\n",
    "atlantic_fp_subset = atlantic_fp.get_random_sample(100, 40)\n",
    "\n",
    "# Get street-level imagery for the selected subset using GoogleStreetview:\n",
    "google_street_class = importer.get_class(\"GoogleStreetview\")\n",
    "google_street = google_street_class({'apiKey': API_KEY})\n",
    "images_street = google_street.get_images(\n",
    "    atlantic_fp_subset, 'tmp/street/')"
   ]
  },
  {
   "cell_type": "markdown",
   "metadata": {
    "id": "-Ce9IL05AMqD"
   },
   "source": [
    "## **Predict Existence of Chimneys in A Building Using the ChimneyDetector Module**\n",
    "`ChimneyDetector` includes a pre-trained EfficientDet_D4 model that has been trained on a custom dataset of 40,000 images. This model is capable of identifying the existence of chimneys."
   ]
  },
  {
   "cell_type": "code",
   "execution_count": 9,
   "metadata": {
    "id": "XWG53_xtFa_F"
   },
   "outputs": [
    {
     "ename": "NotFoundError",
     "evalue": "Class ChimneyDetector is not found.\nThese are the available classes: {'BrailsError': 'brails.exceptions', 'NotFoundError': 'brails.exceptions', 'FoundationHeightClassifier': 'brails.processors.FoundationClassifier.FoundationClassifier', 'NFloorDetector': 'brails.processors.nfloors_detector.nfloor_detector', 'RoofShapeVLM': 'brails.processors.roof_shape_vlm.roof_shape_vlm', 'BuildingMaterialLLM': 'brails.processors.building_material_llm.building_material_llm', 'NFloorVLM': 'brails.processors.nFloor_vlm.nFloor_vlm', 'BoundingBox': 'brails.processors.vlm_segmenter.grounded_sam_utils', 'DetectionResult': 'brails.processors.vlm_segmenter.grounded_sam_utils', 'VLMSegmenter': 'brails.processors.vlm_segmenter.vlm_segmenter', 'CLIPClassifier': 'brails.processors.vlm_image_classifier.CLIPClassifier', 'GarageDetector': 'brails.processors.garage_detector.garage_detector', 'ImageClassifier': 'brails.processors.image_classifier.image_classifier', 'DatasetBinary': 'brails.processors.image_segmenter.image_segmenter', 'DatasetRGB': 'brails.processors.image_segmenter.image_segmenter', 'ImageSegmenter': 'brails.processors.image_segmenter.image_segmenter', 'RoofShapeGPT': 'brails.processors.roof_shape_gpt.roof_shape_gpt', 'NFloorGPT': 'brails.processors.nFloor_gpt.nFloor_gpt', 'RoofShapeClassifier': 'brails.processors.roof_shape_classifier.roof_shape_classifier', 'ConsTypeClassifier': 'brails.processors.cons_type_classifier.ConstructionTypeClassifier', 'OccupancyClassifier': 'brails.processors.occupancy_classifier.occupancy_classifier', 'BasicBlock': 'brails.processors.year_built_classifier.Resnet', 'Bottleneck': 'brails.processors.year_built_classifier.Resnet', 'ResNet': 'brails.processors.year_built_classifier.Resnet', 'PMG': 'brails.processors.year_built_classifier.model', 'BasicConv': 'brails.processors.year_built_classifier.model', 'YearBuiltClassifier': 'brails.processors.year_built_classifier.YearBuiltClassifier', 'FacadeParser': 'brails.processors.facade_parser.facade_parser', 'Image': 'brails.types.image_set', 'ImageSet': 'brails.types.image_set', 'Asset': 'brails.types.asset_inventory', 'AssetInventory': 'brails.types.asset_inventory', 'RegionBoundary': 'brails.types.region_boundary', 'UserFootprint': 'brails.scrapers.user_footprints', 'GoogleStreetview': 'brails.scrapers.google_streetview.google_streetview', 'MS_FootprintScraper': 'brails.scrapers.ms_footprint_scraper.ms_footprint_handler', 'USA_FootprintScraper': 'brails.scrapers.usa_footprint_scraper.usa_footprint_scraper', 'BoundaryFromLocation': 'brails.scrapers.boundary.boundary_location', 'NSI_Parser': 'brails.scrapers.nsi_parser.nsi_parser', 'OSM_FootprintScraper': 'brails.scrapers.osm_footprint_scraper.osm_footprint_scraper', 'GoogleSatellite': 'brails.scrapers.google_satellite.google_satellite', 'FilterBoundingBox': 'brails.filters.house_view.house_view', 'FilterDetectionResult': 'brails.filters.house_view.house_view', 'HouseView': 'brails.filters.house_view.house_view', 'KnnImputer': 'brails.imputers.knn_imputer.knn_imputer', 'InputValidator': 'brails.utils.input_validator', 'Importer': 'brails.utils.importer', 'GeoTools': 'brails.utils.geo_tools'}",
     "output_type": "error",
     "traceback": [
      "\u001b[0;31m---------------------------------------------------------------------------\u001b[0m",
      "\u001b[0;31mNotFoundError\u001b[0m                             Traceback (most recent call last)",
      "Cell \u001b[0;32mIn[9], line 2\u001b[0m\n\u001b[1;32m      1\u001b[0m importer \u001b[38;5;241m=\u001b[39m Importer()\n\u001b[0;32m----> 2\u001b[0m chimney_detector_class \u001b[38;5;241m=\u001b[39m importer\u001b[38;5;241m.\u001b[39mget_class(\u001b[38;5;124m'\u001b[39m\u001b[38;5;124mChimneyDetector\u001b[39m\u001b[38;5;124m'\u001b[39m)\n\u001b[1;32m      3\u001b[0m chimney_detector \u001b[38;5;241m=\u001b[39m chimney_detector_class()\n\u001b[1;32m      4\u001b[0m predictions \u001b[38;5;241m=\u001b[39m chimney_detector\u001b[38;5;241m.\u001b[39mpredict(images_street)\n",
      "File \u001b[0;32m~/anaconda3/envs/brails_plus/lib/python3.11/site-packages/brails/utils/importer.py:156\u001b[0m, in \u001b[0;36mImporter.get_class\u001b[0;34m(self, class_name)\u001b[0m\n\u001b[1;32m    153\u001b[0m     module \u001b[38;5;241m=\u001b[39m \u001b[38;5;28m__import__\u001b[39m(module_path, fromlist\u001b[38;5;241m=\u001b[39m[class_name])\n\u001b[1;32m    154\u001b[0m     \u001b[38;5;28;01mreturn\u001b[39;00m \u001b[38;5;28mgetattr\u001b[39m(module, class_name)\n\u001b[0;32m--> 156\u001b[0m \u001b[38;5;28;01mraise\u001b[39;00m NotFoundError(\n\u001b[1;32m    157\u001b[0m     type_of_thing\u001b[38;5;241m=\u001b[39m\u001b[38;5;124m\"\u001b[39m\u001b[38;5;124mclass\u001b[39m\u001b[38;5;124m\"\u001b[39m,\n\u001b[1;32m    158\u001b[0m     name\u001b[38;5;241m=\u001b[39mclass_name,\n\u001b[1;32m    159\u001b[0m     append\u001b[38;5;241m=\u001b[39m\u001b[38;5;124mf\u001b[39m\u001b[38;5;124m\"\u001b[39m\u001b[38;5;124mThese are the available classes: \u001b[39m\u001b[38;5;132;01m{\u001b[39;00m\u001b[38;5;28mself\u001b[39m\u001b[38;5;241m.\u001b[39mclasses\u001b[38;5;132;01m}\u001b[39;00m\u001b[38;5;124m\"\u001b[39m,\n\u001b[1;32m    160\u001b[0m )\n",
      "\u001b[0;31mNotFoundError\u001b[0m: Class ChimneyDetector is not found.\nThese are the available classes: {'BrailsError': 'brails.exceptions', 'NotFoundError': 'brails.exceptions', 'FoundationHeightClassifier': 'brails.processors.FoundationClassifier.FoundationClassifier', 'NFloorDetector': 'brails.processors.nfloors_detector.nfloor_detector', 'RoofShapeVLM': 'brails.processors.roof_shape_vlm.roof_shape_vlm', 'BuildingMaterialLLM': 'brails.processors.building_material_llm.building_material_llm', 'NFloorVLM': 'brails.processors.nFloor_vlm.nFloor_vlm', 'BoundingBox': 'brails.processors.vlm_segmenter.grounded_sam_utils', 'DetectionResult': 'brails.processors.vlm_segmenter.grounded_sam_utils', 'VLMSegmenter': 'brails.processors.vlm_segmenter.vlm_segmenter', 'CLIPClassifier': 'brails.processors.vlm_image_classifier.CLIPClassifier', 'GarageDetector': 'brails.processors.garage_detector.garage_detector', 'ImageClassifier': 'brails.processors.image_classifier.image_classifier', 'DatasetBinary': 'brails.processors.image_segmenter.image_segmenter', 'DatasetRGB': 'brails.processors.image_segmenter.image_segmenter', 'ImageSegmenter': 'brails.processors.image_segmenter.image_segmenter', 'RoofShapeGPT': 'brails.processors.roof_shape_gpt.roof_shape_gpt', 'NFloorGPT': 'brails.processors.nFloor_gpt.nFloor_gpt', 'RoofShapeClassifier': 'brails.processors.roof_shape_classifier.roof_shape_classifier', 'ConsTypeClassifier': 'brails.processors.cons_type_classifier.ConstructionTypeClassifier', 'OccupancyClassifier': 'brails.processors.occupancy_classifier.occupancy_classifier', 'BasicBlock': 'brails.processors.year_built_classifier.Resnet', 'Bottleneck': 'brails.processors.year_built_classifier.Resnet', 'ResNet': 'brails.processors.year_built_classifier.Resnet', 'PMG': 'brails.processors.year_built_classifier.model', 'BasicConv': 'brails.processors.year_built_classifier.model', 'YearBuiltClassifier': 'brails.processors.year_built_classifier.YearBuiltClassifier', 'FacadeParser': 'brails.processors.facade_parser.facade_parser', 'Image': 'brails.types.image_set', 'ImageSet': 'brails.types.image_set', 'Asset': 'brails.types.asset_inventory', 'AssetInventory': 'brails.types.asset_inventory', 'RegionBoundary': 'brails.types.region_boundary', 'UserFootprint': 'brails.scrapers.user_footprints', 'GoogleStreetview': 'brails.scrapers.google_streetview.google_streetview', 'MS_FootprintScraper': 'brails.scrapers.ms_footprint_scraper.ms_footprint_handler', 'USA_FootprintScraper': 'brails.scrapers.usa_footprint_scraper.usa_footprint_scraper', 'BoundaryFromLocation': 'brails.scrapers.boundary.boundary_location', 'NSI_Parser': 'brails.scrapers.nsi_parser.nsi_parser', 'OSM_FootprintScraper': 'brails.scrapers.osm_footprint_scraper.osm_footprint_scraper', 'GoogleSatellite': 'brails.scrapers.google_satellite.google_satellite', 'FilterBoundingBox': 'brails.filters.house_view.house_view', 'FilterDetectionResult': 'brails.filters.house_view.house_view', 'HouseView': 'brails.filters.house_view.house_view', 'KnnImputer': 'brails.imputers.knn_imputer.knn_imputer', 'InputValidator': 'brails.utils.input_validator', 'Importer': 'brails.utils.importer', 'GeoTools': 'brails.utils.geo_tools'}"
     ]
    }
   ],
   "source": [
    "importer = Importer()\n",
    "chimney_detector_class = importer.get_class('ChimneyDetector')\n",
    "chimney_detector = chimney_detector_class()\n",
    "predictions = chimney_detector.predict(images_street)"
   ]
  },
  {
   "cell_type": "markdown",
   "metadata": {
    "id": "oKSebGtqGEb_"
   },
   "source": [
    "## **Retrain Default ChimneyDetector Module**"
   ]
  },
  {
   "cell_type": "code",
   "execution_count": null,
   "metadata": {
    "id": "dNLUWp3IEq74"
   },
   "outputs": [],
   "source": [
    "chimney_detector.retrain(images_street)"
   ]
  }
 ],
 "metadata": {
  "colab": {
   "authorship_tag": "ABX9TyOn1ecsEsZM9q63G3hYyP2O",
   "include_colab_link": true,
   "provenance": []
  },
  "kernelspec": {
   "display_name": "Python 3 (ipykernel)",
   "language": "python",
   "name": "python3"
  },
  "language_info": {
   "codemirror_mode": {
    "name": "ipython",
    "version": 3
   },
   "file_extension": ".py",
   "mimetype": "text/x-python",
   "name": "python",
   "nbconvert_exporter": "python",
   "pygments_lexer": "ipython3",
   "version": "3.11.10"
  }
 },
 "nbformat": 4,
 "nbformat_minor": 4
}
